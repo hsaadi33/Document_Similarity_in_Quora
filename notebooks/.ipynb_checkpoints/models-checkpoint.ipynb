{
 "cells": [
  {
   "cell_type": "markdown",
   "id": "65ad864e-89ed-4cdb-ab6a-6f6555238600",
   "metadata": {},
   "source": [
    "# Questions Similarity in Quora"
   ]
  },
  {
   "cell_type": "markdown",
   "id": "671fa9c2-0371-42b1-8baf-058207bb5bc8",
   "metadata": {
    "jp-MarkdownHeadingCollapsed": true,
    "tags": []
   },
   "source": [
    "## Table of Contents:\n",
    "1. [Notebook Summary](#Summary)\n",
    "2. [Environment Setup](#env_setup)\n",
    "3. [Data Loading and Preprocessing](#load_preproc)\n",
    "4. [Feature Engineering](#feature_eng)\n",
    "5. [Data Split](#split)\n",
    "6. [Calculate similarity score based on weighted and unweighted TF-IDF Word2Vec and GloVe models](#idf)\n",
    "7. [EDA on Features](#eda)\n",
    "8. [Scale Features](#scale)\n",
    "9. [Metrics Used](#metrics)\n",
    "10. [Models](#models)\n",
    "11. [Results Summary](#results)\n",
    "12. [Feature Importance](#feature_imp)"
   ]
  },
  {
   "cell_type": "markdown",
   "id": "63fe2c41-f43e-45e9-b473-49d6be80364a",
   "metadata": {},
   "source": [
    "## Notebook Summary <a id='Summary'></a>"
   ]
  },
  {
   "cell_type": "markdown",
   "id": "35166ca8-1f96-47df-9a4d-771c286a1990",
   "metadata": {},
   "source": [
    "**Project Background**: Quora is a platform to ask questions and connect with people who contribute unique insights and quality answers. Sometimes people ask the same questions in different points in time. Quora supplied Kaggle with a labeled dataset where it gives two questions and provides a label whether these two questions are duplicates or not.\n",
    "\n",
    "**Project Goal**: Given two questions from Quora, predict if they are duplicates or not.\n",
    "\n",
    "**Methods**: Dataset was obtained from Kaggle. It has two files: `train.csv` and `test.csv`. The numbers of rows in the train and test data are $404289$ and $2345795$ respectively. I decided to work with the labeled data in `train.csv` as the main dataset, and then split it into a train and test set later. First, the questions data is filtered by converting to lowercase and special characters, removing spaces, HTML tags, and punctuations marks. Then, stop words were removed. $21$ features were created from these questions such as number of words in question $1$, number of words in question $2$, etc; and four similarity features were calculated from unweighted/weighted TF-IDF Word2Vec and GloVe models. Then, exploratory data analysis (EDA) was performed on these generated features in order to check their distributions, correlations, and multicolinearity. Four machine learning algorithms were chosen: Logistic regression, Neural network, Random Forest, and XgBoost. These five machine learning algorithms were applied to two datasets. First and second datasets contain $21$ features generated from before and a similarity score calculated from an unweighted/weighted TF-IDF Word2Vec model. Third and fourth datasets contain $21$ features generated from before and a similarity score calculated from an unweighted/weighted TF-IDF GloVe model. Hence, we have a total of $16$ models. Multiple metrics were chosen to judge the best model such as: accuracy, balanced accuracy, Matthew's Correlation Coefficients (MCC), log loss function, and training time. Confusion matrix, calibration curves, and AUC-ROC curves were plotted for the best model. Finally, feature importance is demonstrated for the best model."
   ]
  },
  {
   "cell_type": "code",
   "execution_count": 1,
   "id": "4eb960e3-3143-4eda-ab28-2600040bd859",
   "metadata": {},
   "outputs": [],
   "source": [
    "%load_ext autoreload\n",
    "%autoreload 2"
   ]
  },
  {
   "cell_type": "markdown",
   "id": "0389883b-5580-4b81-91a0-d9018501957b",
   "metadata": {},
   "source": [
    "## Environment Setup <a id='env_setup'></a>"
   ]
  },
  {
   "cell_type": "markdown",
   "id": "5a05aea7-4b19-4eb1-a116-87eb84c32d3e",
   "metadata": {},
   "source": [
    "Libraries"
   ]
  },
  {
   "cell_type": "code",
   "execution_count": 2,
   "id": "6d0b4117-e086-46a8-93b4-14ef5d4ee8fb",
   "metadata": {},
   "outputs": [],
   "source": [
    "import os\n",
    "import sys\n",
    "import matplotlib.pyplot as plt\n",
    "import seaborn as sns\n",
    "\n",
    "import pandas as pd\n",
    "from sklearn.model_selection import train_test_split\n",
    "from sklearn.metrics import confusion_matrix"
   ]
  },
  {
   "cell_type": "code",
   "execution_count": 3,
   "id": "d0fd4217-da0a-4ccb-aab1-363e36abff9c",
   "metadata": {},
   "outputs": [],
   "source": [
    "pd.set_option(\"display.max_columns\", None)\n",
    "pd.set_option(\"display.max_rows\", None) "
   ]
  },
  {
   "cell_type": "markdown",
   "id": "afc0176b-194e-41f3-bc05-d25b897894e4",
   "metadata": {},
   "source": [
    "List of directories"
   ]
  },
  {
   "cell_type": "code",
   "execution_count": 4,
   "id": "beca4319-7662-4dfe-a51e-0850e0118edb",
   "metadata": {},
   "outputs": [],
   "source": [
    "DIRECTORY_DATA = '../data/external/'\n",
    "\n",
    "DIRECTORY_INTER = '../data/inter/'\n",
    "\n",
    "DIRECTORY_GLOVE = '../data/inter/glove.6B/'"
   ]
  },
  {
   "cell_type": "code",
   "execution_count": 5,
   "id": "fb7d8900-7a14-45a7-957e-4054c300c136",
   "metadata": {},
   "outputs": [],
   "source": [
    "if '../src' not in sys.path:\n",
    "    sys.path.append('../src')\n",
    "    \n",
    "import utils, plotting, train"
   ]
  },
  {
   "cell_type": "markdown",
   "id": "0b016b2e-f2d0-411d-99a9-994b7dbfb65c",
   "metadata": {},
   "source": [
    "Global variables"
   ]
  },
  {
   "cell_type": "code",
   "execution_count": 6,
   "id": "58cc12eb-934a-4ebf-b232-532d38c1f8bd",
   "metadata": {},
   "outputs": [],
   "source": [
    "DATA_FILENAME = 'data_filtered.pkl'\n",
    "DATA_PREPROCESSED_FILENAME = 'data_preprocessed.pkl'\n",
    "DATA_FEATURES_FILENAME = 'data_features.pkl'\n",
    "DATA_FULL_FEATURES = 'data_full_features.pkl'\n",
    "\n",
    "RANDOM_STATE_SPLIT = 43\n",
    "\n",
    "GLOVE_6B_FILENAME = \"glove.6B.300d.txt\"\n",
    "GLOVE_TEMP_FILENAME = \"glove.6B.300d.word2vec.txt\"\n",
    "W2V_BROWN_FILENAME = \"w2v_model.model\"\n",
    "GLOVE_MODEL_FILENAME = \"glove_model.model\"\n",
    "GLOVE_DIM = 300\n",
    "W2V_DIM = 300\n",
    "BROWN_TRAIN_SIZE = 100000\n",
    "\n",
    "LR_RANDOM_STATE = 43\n",
    "SVM_RANDOM_STATE = 43\n",
    "NN_RANDOM_STATE = 43\n",
    "RF_RANDOM_STATE = 43\n",
    "XGBOOST_RANDOM_STATE = 43\n",
    "UMAP_RANDOM_STATE = 43\n",
    "\n",
    "LR_UN_W2V_FILENAME = 'lr_un_w2v_model.pkl'\n",
    "LR_UN_W2V_TIME_FILENAME = 'lr_un_w2v_time.pkl'\n",
    "\n",
    "LR_W2V_FILENAME = 'lr_w2v_model.pkl'\n",
    "LR_W2V_TIME_FILENAME = 'lr_w2v_time.pkl'\n",
    "\n",
    "LR_UN_GLOVE_FILENAME = 'lr_un_glove_model.pkl'\n",
    "LR_UN_GLOVE_TIME_FILENAME = 'lr_un_glove_time.pkl'\n",
    "\n",
    "LR_GLOVE_FILENAME = 'lr_glove_model.pkl'\n",
    "LR_GLOVE_TIME_FILENAME = 'lr_glove_time.pkl'\n",
    "\n",
    "\n",
    "NN_UN_W2V_FILENAME = 'nn_un_w2v_model.h5'\n",
    "NN_UN_W2V_TIME_FILENAME = 'nn_un_w2v_time.pkl'\n",
    "\n",
    "NN_W2V_FILENAME = 'nn_w2v_model.h5'\n",
    "NN_W2V_TIME_FILENAME = 'nn_w2v_time.pkl'\n",
    "\n",
    "NN_UN_GLOVE_FILENAME = 'nn_un_glove_model.h5'\n",
    "NN_UN_GLOVE_TIME_FILENAME = 'nn_un_glove_time.pkl'\n",
    "\n",
    "NN_GLOVE_FILENAME = 'nn_glove_model.h5'\n",
    "NN_GLOVE_TIME_FILENAME = 'nn_glove_time.pkl'\n",
    "\n",
    "\n",
    "RF_UN_W2V_FILENAME = 'rf_un_w2v_model.pkl'\n",
    "RF_UN_W2V_TIME_FILENAME = 'rf_un_w2v_time.pkl'\n",
    "\n",
    "RF_W2V_FILENAME = 'rf_w2v_model.pkl'\n",
    "RF_W2V_TIME_FILENAME = 'rf_w2v_time.pkl'\n",
    "\n",
    "RF_UN_GLOVE_FILENAME = 'rf_un_glove_model.pkl'\n",
    "RF_UN_GLOVE_TIME_FILENAME = 'rf_un_glove_time.pkl'\n",
    "\n",
    "RF_GLOVE_FILENAME = 'rf_glove_model.pkl'\n",
    "RF_GLOVE_TIME_FILENAME = 'rf_glove_time.pkl'\n",
    "\n",
    "\n",
    "XGBOOST_UN_W2V_FILENAME = 'xgboost_un_w2v_model.pkl'\n",
    "XGBOOST_UN_W2V_TIME_FILENAME = 'xgboost_un_w2v_time.pkl'\n",
    "\n",
    "XGBOOST_W2V_FILENAME = 'xgboost_w2v_model.pkl'\n",
    "XGBOOST_W2V_TIME_FILENAME = 'xgboost_w2v_time.pkl'\n",
    "\n",
    "XGBOOST_UN_GLOVE_FILENAME = 'xgboost_un_glove_model.pkl'\n",
    "XGBOOST_UN_GLOVE_TIME_FILENAME = 'xgboost_un_glove_time.pkl'\n",
    "\n",
    "XGBOOST_GLOVE_FILENAME = 'xgboost_glove_model.pkl'\n",
    "XGBOOST_GLOVE_TIME_FILENAME = 'xgboost_glove_time.pkl'"
   ]
  },
  {
   "cell_type": "markdown",
   "id": "5ede33b1-dad3-437b-9e3d-f86e43d5415f",
   "metadata": {},
   "source": [
    "## Data Loading and Preprocessing  <a id='load_preproc'></a>"
   ]
  },
  {
   "cell_type": "code",
   "execution_count": 7,
   "id": "540a40fe-b72c-40d2-bbfd-14935cddc87b",
   "metadata": {},
   "outputs": [],
   "source": [
    "df_data = pd.read_pickle(os.path.join(DIRECTORY_INTER,DATA_FILENAME))"
   ]
  },
  {
   "cell_type": "markdown",
   "id": "f754abe2-05dd-4516-acfc-8cf41b687e15",
   "metadata": {},
   "source": [
    "Convert to lowercase and remove spaces, certain special characters with their string equivalents, \"math\", HTML tags, punctuation marks, and stop words."
   ]
  },
  {
   "cell_type": "code",
   "execution_count": 8,
   "id": "cdd9bdc8-0e1a-4f54-973f-f6a72d25500d",
   "metadata": {},
   "outputs": [],
   "source": [
    "target_cols = ['question1','question2']\n",
    "new_target_cols = ['question1_preprocessed','question2_preprocessed']"
   ]
  },
  {
   "cell_type": "code",
   "execution_count": 9,
   "id": "2a4bf514-c43b-4979-93b4-bba2a184c476",
   "metadata": {},
   "outputs": [],
   "source": [
    "df_data = utils.preprocess_dataframe(df_data,target_cols,new_target_cols,DIRECTORY_INTER,DATA_PREPROCESSED_FILENAME)"
   ]
  },
  {
   "cell_type": "markdown",
   "id": "59d75b09-908a-4d5a-8925-58cd241d770e",
   "metadata": {},
   "source": [
    "## Feature Engineering <a id='feature_eng'></a>"
   ]
  },
  {
   "cell_type": "code",
   "execution_count": 10,
   "id": "a1245dc5-13b9-483e-8733-f45bf46d59f0",
   "metadata": {},
   "outputs": [],
   "source": [
    "questions_split_cols = ['q1_split', 'q2_split']"
   ]
  },
  {
   "cell_type": "markdown",
   "id": "08d091fe-521d-44c4-87fe-de07c856f630",
   "metadata": {},
   "source": [
    "Generate the following features:\n",
    "1. Number of words in question 1: `words_num_q1`\n",
    "2. Number of words in question 2: `words_num_q2`\n",
    "3. Total number of words in questions 1 & 2: `words_total`\n",
    "4. Number of unique words in question 1: `words_num_uniq_q1`\n",
    "5. Number of unique words in question 2: `words_num_uniq_q2`\n",
    "6. Total number of unique words in question 1 & 2 (with intersection between questions): `words_num_uniq_total`\n",
    "7. Number of words in common: `words_intersection`\n",
    "8. Average number of words for questions 1 & 2 combined: `average_words`\n",
    "9. Standard deviation of words for questions 1 & 2 combined: `standard_deviation_words`\n",
    "10. Average number of unique words for questions 1 & 2 combined (with intersection between questions): `average_words_uniq`\n",
    "11. Standard deviation of unique words for questions 1 & 2 combined (with intersection between questions): `standard_deviation_words_uniq`\n",
    "12. Frequency of the most occurring word in question 1: `freq_word_q1`\n",
    "13. Frequency of the most occurring word in question 2: `freq_word_q2`\n",
    "14. Absolute difference between the number of words in questions 1 & 2: `abs_diff`\n",
    "15. Absolute difference between the number of unique words in questions 1 & 2: `abs_diff_uniq`\n",
    "16. A measure of the sequences' similarity between zero and one. Where T is the total number of elements in both sequences, and M is the number of matches, this is 2.0*M / T: `fuzz_ratio`\n",
    "17. If the shorter string is of length m, and the longer string is length n, a score of the best matching length-m substring is given: `fuzz_partial_ratio`\n",
    "18. The token sort approach involves tokenizing the string in question, sorting the tokens alphabetically, and then joining them back into a string. Then compare the transformed strings with a simple ratio to solve the ordering problem: `token_sort_ratio`\n",
    "19. Tokenize both strings, then split the tokens into two groups: intersection and remainder. Then, use those sets to build up a comparison string. `token_set_ratio`"
   ]
  },
  {
   "cell_type": "code",
   "execution_count": 11,
   "id": "3c58e21b-bcc5-46b2-a21e-ed9bda6eef8a",
   "metadata": {},
   "outputs": [],
   "source": [
    "df_data = utils.feature_engineering(df_data,new_target_cols,questions_split_cols,DIRECTORY_INTER,DATA_FEATURES_FILENAME)"
   ]
  },
  {
   "cell_type": "markdown",
   "id": "64bac88c-3c9c-476e-a2d8-f3033e6e0173",
   "metadata": {
    "tags": []
   },
   "source": [
    "## Data Split <a id='split'></a>"
   ]
  },
  {
   "cell_type": "code",
   "execution_count": 12,
   "id": "3fbc0907-5ef6-4fb9-b493-cb697a74b69c",
   "metadata": {},
   "outputs": [
    {
     "data": {
      "image/png": "[encoded data removed]",
      "text/plain": [
       "<Figure size 432x288 with 1 Axes>"
      ]
     },
     "metadata": {
      "needs_background": "light"
     },
     "output_type": "display_data"
    }
   ],
   "source": [
    "plotting.plot_bar(df_data,'is_duplicate',\"Percentage of duplicates\",[0,1],['red','blue'])"
   ]
  },
  {
   "cell_type": "markdown",
   "id": "27eefc1f-6586-4a4d-b8cb-9f53ef545de3",
   "metadata": {},
   "source": [
    "Since the dataset is imbalanced, stratified sampling is performed."
   ]
  },
  {
   "cell_type": "code",
   "execution_count": 13,
   "id": "ee1db6ee-ea70-471e-ab51-a1c591f87630",
   "metadata": {},
   "outputs": [],
   "source": [
    "X = df_data[df_data.columns[~df_data.columns.isin(['is_duplicate'])]].copy()\n",
    "y = df_data[['is_duplicate']].copy()"
   ]
  },
  {
   "cell_type": "markdown",
   "id": "0474ccc1-0701-4fe6-af80-0846a7219646",
   "metadata": {},
   "source": [
    "Divide the dataset into 80% train and 20% test, perform stratified sampling, and label the targets."
   ]
  },
  {
   "cell_type": "code",
   "execution_count": 14,
   "id": "617b82da-ca71-4873-b308-1641a25a74a8",
   "metadata": {},
   "outputs": [],
   "source": [
    "X_train, X_test, y_train, y_test = train_test_split(X, y,test_size=0.2,shuffle=True,\n",
    "                                                    stratify=y, random_state = RANDOM_STATE_SPLIT) "
   ]
  },
  {
   "cell_type": "markdown",
   "id": "45fc0a47-f6e0-4a65-a53f-d78dbf82e8dc",
   "metadata": {},
   "source": [
    "## Calculate similarity score based on weighted and unweighted TF-IDF Word2Vec and GloVe models <a id='idf'></a>"
   ]
  },
  {
   "cell_type": "markdown",
   "id": "f37bb1a5-f667-484c-af9e-e01b50077222",
   "metadata": {},
   "source": [
    "Calculate TF-IDF based only on X_train"
   ]
  },
  {
   "cell_type": "code",
   "execution_count": 15,
   "id": "dab4c1df-0177-4d83-abd9-66a0a17c3e23",
   "metadata": {},
   "outputs": [],
   "source": [
    "questions = list(list(X_train[new_target_cols[0]]) + list(X_train[new_target_cols[1]]))\n",
    "questions_list = list(list(X_train[questions_split_cols[0]]) + list(X_train[questions_split_cols[1]]))"
   ]
  },
  {
   "cell_type": "code",
   "execution_count": 16,
   "id": "8a877c94-ce6d-40b2-9b36-61be7d2a8cb4",
   "metadata": {},
   "outputs": [],
   "source": [
    "vectorizer , idf = utils.tfidf_vectorizer(questions)"
   ]
  },
  {
   "cell_type": "markdown",
   "id": "28854429-9da8-4c2b-82aa-21dfbc975fff",
   "metadata": {},
   "source": [
    "Install `brown` dataset and add to it lists of questions 1 and 2 from X_train only, and train a Word2Vec model on this concatenated dataset"
   ]
  },
  {
   "cell_type": "code",
   "execution_count": 17,
   "id": "a5e571b4-b298-4419-93ac-9c1248d9e28f",
   "metadata": {},
   "outputs": [],
   "source": [
    "model_w2v = utils.load_w2v_model(BROWN_TRAIN_SIZE,questions_list,W2V_DIM,DIRECTORY_INTER,W2V_BROWN_FILENAME)"
   ]
  },
  {
   "cell_type": "markdown",
   "id": "2f4dd6d7-d720-4297-bff9-d9a16da0dfe1",
   "metadata": {},
   "source": [
    "Initialize a GloVe model"
   ]
  },
  {
   "cell_type": "code",
   "execution_count": 18,
   "id": "1a460cf3-188e-4ea6-94b2-bdf6e67d65fd",
   "metadata": {},
   "outputs": [],
   "source": [
    "model_glove = utils.load_glove_model(DIRECTORY_GLOVE,GLOVE_6B_FILENAME,GLOVE_TEMP_FILENAME,DIRECTORY_INTER,GLOVE_MODEL_FILENAME) "
   ]
  },
  {
   "cell_type": "code",
   "execution_count": 19,
   "id": "cdfbf4fc-f8f4-41b2-9a2c-f7a9c291d6e2",
   "metadata": {},
   "outputs": [],
   "source": [
    "df_data = utils.w2v_glove_similarity(df_data,idf,model_w2v,model_glove,W2V_DIM,GLOVE_DIM,DIRECTORY_INTER,DATA_FULL_FEATURES)"
   ]
  },
  {
   "cell_type": "markdown",
   "id": "aed755f5-f817-4ef3-b81a-6fa9dd63a3b2",
   "metadata": {},
   "source": [
    "## EDA on features  <a id='eda'></a>"
   ]
  },
  {
   "cell_type": "code",
   "execution_count": 20,
   "id": "603ed2db-7924-426b-9057-3c639b99d994",
   "metadata": {},
   "outputs": [],
   "source": [
    "features = ['words_num_q1', 'words_num_q2', 'words_total','words_num_uniq_q1', 'words_num_uniq_q2', 'words_num_uniq_total',\n",
    "            'words_intersection', 'average_words', 'standard_deviation_words', 'average_words_uniq', 'standard_deviation_words_uniq', \n",
    "            'freq_word_q1','freq_word_q2', 'abs_diff', 'abs_diff_uniq', 'fuzz_ratio','fuzz_partial_ratio', 'token_sort_ratio', \n",
    "            'token_set_ratio','similarity_w2v', 'similarity_unweighted_w2v','similarity_glove','similarity_unweighted_glove']"
   ]
  },
  {
   "cell_type": "code",
   "execution_count": 21,
   "id": "cd685647-353b-4e41-b7a4-7b012e02a88b",
   "metadata": {},
   "outputs": [
    {
     "data": {
      "text/html": [
       "<div>\n",
       "<style scoped>\n",
       "    .dataframe tbody tr th:only-of-type {\n",
       "        vertical-align: middle;\n",
       "    }\n",
       "\n",
       "    .dataframe tbody tr th {\n",
       "        vertical-align: top;\n",
       "    }\n",
       "\n",
       "    .dataframe thead th {\n",
       "        text-align: right;\n",
       "    }\n",
       "</style>\n",
       "<table border=\"1\" class=\"dataframe\">\n",
       "  <thead>\n",
       "    <tr style=\"text-align: right;\">\n",
       "      <th></th>\n",
       "      <th>id</th>\n",
       "      <th>qid1</th>\n",
       "      <th>qid2</th>\n",
       "      <th>is_duplicate</th>\n",
       "      <th>words_num_q1</th>\n",
       "      <th>words_num_q2</th>\n",
       "      <th>words_total</th>\n",
       "      <th>words_num_uniq_q1</th>\n",
       "      <th>words_num_uniq_q2</th>\n",
       "      <th>words_num_uniq_total</th>\n",
       "      <th>words_intersection</th>\n",
       "      <th>average_words</th>\n",
       "      <th>standard_deviation_words</th>\n",
       "      <th>average_words_uniq</th>\n",
       "      <th>standard_deviation_words_uniq</th>\n",
       "      <th>freq_word_q1</th>\n",
       "      <th>freq_word_q2</th>\n",
       "      <th>abs_diff</th>\n",
       "      <th>abs_diff_uniq</th>\n",
       "      <th>fuzz_ratio</th>\n",
       "      <th>fuzz_partial_ratio</th>\n",
       "      <th>token_sort_ratio</th>\n",
       "      <th>token_set_ratio</th>\n",
       "      <th>similarity_w2v</th>\n",
       "      <th>similarity_unweighted_w2v</th>\n",
       "      <th>similarity_glove</th>\n",
       "      <th>similarity_unweighted_glove</th>\n",
       "    </tr>\n",
       "  </thead>\n",
       "  <tbody>\n",
       "    <tr>\n",
       "      <th>count</th>\n",
       "      <td>404214.000000</td>\n",
       "      <td>404214.000000</td>\n",
       "      <td>404214.000000</td>\n",
       "      <td>404214.000000</td>\n",
       "      <td>404214.000000</td>\n",
       "      <td>404214.000000</td>\n",
       "      <td>404214.000000</td>\n",
       "      <td>404214.000000</td>\n",
       "      <td>404214.000000</td>\n",
       "      <td>404214.000000</td>\n",
       "      <td>404214.000000</td>\n",
       "      <td>404214.000000</td>\n",
       "      <td>404214.000000</td>\n",
       "      <td>404214.000000</td>\n",
       "      <td>404214.000000</td>\n",
       "      <td>404214.000000</td>\n",
       "      <td>404214.000000</td>\n",
       "      <td>404214.000000</td>\n",
       "      <td>404214.000000</td>\n",
       "      <td>404214.000000</td>\n",
       "      <td>404214.000000</td>\n",
       "      <td>404214.000000</td>\n",
       "      <td>404214.000000</td>\n",
       "      <td>404214.000000</td>\n",
       "      <td>404214.000000</td>\n",
       "      <td>404214.000000</td>\n",
       "      <td>404214.000000</td>\n",
       "    </tr>\n",
       "    <tr>\n",
       "      <th>mean</th>\n",
       "      <td>202145.153372</td>\n",
       "      <td>217245.331409</td>\n",
       "      <td>220951.676825</td>\n",
       "      <td>0.369252</td>\n",
       "      <td>5.463366</td>\n",
       "      <td>5.524413</td>\n",
       "      <td>10.987779</td>\n",
       "      <td>5.318960</td>\n",
       "      <td>5.364631</td>\n",
       "      <td>10.683591</td>\n",
       "      <td>2.486510</td>\n",
       "      <td>5.493889</td>\n",
       "      <td>0.933347</td>\n",
       "      <td>5.341795</td>\n",
       "      <td>0.863752</td>\n",
       "      <td>1.107532</td>\n",
       "      <td>1.116186</td>\n",
       "      <td>1.866694</td>\n",
       "      <td>1.727503</td>\n",
       "      <td>62.265957</td>\n",
       "      <td>69.811584</td>\n",
       "      <td>64.600868</td>\n",
       "      <td>74.629189</td>\n",
       "      <td>0.766157</td>\n",
       "      <td>0.748180</td>\n",
       "      <td>0.753530</td>\n",
       "      <td>0.776975</td>\n",
       "    </tr>\n",
       "    <tr>\n",
       "      <th>std</th>\n",
       "      <td>116707.808896</td>\n",
       "      <td>157750.734242</td>\n",
       "      <td>159901.862716</td>\n",
       "      <td>0.482603</td>\n",
       "      <td>2.943242</td>\n",
       "      <td>3.231374</td>\n",
       "      <td>5.365478</td>\n",
       "      <td>2.731966</td>\n",
       "      <td>2.959685</td>\n",
       "      <td>4.973699</td>\n",
       "      <td>1.691037</td>\n",
       "      <td>2.682739</td>\n",
       "      <td>1.218577</td>\n",
       "      <td>2.486849</td>\n",
       "      <td>1.087069</td>\n",
       "      <td>0.342216</td>\n",
       "      <td>0.358317</td>\n",
       "      <td>2.437155</td>\n",
       "      <td>2.174138</td>\n",
       "      <td>20.457926</td>\n",
       "      <td>20.046738</td>\n",
       "      <td>19.746033</td>\n",
       "      <td>21.275335</td>\n",
       "      <td>0.234743</td>\n",
       "      <td>0.246240</td>\n",
       "      <td>0.215049</td>\n",
       "      <td>0.195238</td>\n",
       "    </tr>\n",
       "    <tr>\n",
       "      <th>min</th>\n",
       "      <td>0.000000</td>\n",
       "      <td>1.000000</td>\n",
       "      <td>2.000000</td>\n",
       "      <td>0.000000</td>\n",
       "      <td>0.000000</td>\n",
       "      <td>0.000000</td>\n",
       "      <td>1.000000</td>\n",
       "      <td>0.000000</td>\n",
       "      <td>0.000000</td>\n",
       "      <td>1.000000</td>\n",
       "      <td>0.000000</td>\n",
       "      <td>0.500000</td>\n",
       "      <td>0.000000</td>\n",
       "      <td>0.500000</td>\n",
       "      <td>0.000000</td>\n",
       "      <td>0.000000</td>\n",
       "      <td>0.000000</td>\n",
       "      <td>0.000000</td>\n",
       "      <td>0.000000</td>\n",
       "      <td>0.000000</td>\n",
       "      <td>0.000000</td>\n",
       "      <td>0.000000</td>\n",
       "      <td>0.000000</td>\n",
       "      <td>-0.427180</td>\n",
       "      <td>-0.417789</td>\n",
       "      <td>-0.340878</td>\n",
       "      <td>-0.333697</td>\n",
       "    </tr>\n",
       "    <tr>\n",
       "      <th>25%</th>\n",
       "      <td>101076.250000</td>\n",
       "      <td>74441.500000</td>\n",
       "      <td>74725.250000</td>\n",
       "      <td>0.000000</td>\n",
       "      <td>3.000000</td>\n",
       "      <td>3.000000</td>\n",
       "      <td>7.000000</td>\n",
       "      <td>3.000000</td>\n",
       "      <td>3.000000</td>\n",
       "      <td>7.000000</td>\n",
       "      <td>1.000000</td>\n",
       "      <td>3.500000</td>\n",
       "      <td>0.000000</td>\n",
       "      <td>3.500000</td>\n",
       "      <td>0.000000</td>\n",
       "      <td>1.000000</td>\n",
       "      <td>1.000000</td>\n",
       "      <td>0.000000</td>\n",
       "      <td>0.000000</td>\n",
       "      <td>45.000000</td>\n",
       "      <td>54.000000</td>\n",
       "      <td>50.000000</td>\n",
       "      <td>60.000000</td>\n",
       "      <td>0.686491</td>\n",
       "      <td>0.647555</td>\n",
       "      <td>0.664065</td>\n",
       "      <td>0.704250</td>\n",
       "    </tr>\n",
       "    <tr>\n",
       "      <th>50%</th>\n",
       "      <td>202142.500000</td>\n",
       "      <td>192188.000000</td>\n",
       "      <td>197052.000000</td>\n",
       "      <td>0.000000</td>\n",
       "      <td>5.000000</td>\n",
       "      <td>5.000000</td>\n",
       "      <td>10.000000</td>\n",
       "      <td>5.000000</td>\n",
       "      <td>5.000000</td>\n",
       "      <td>10.000000</td>\n",
       "      <td>2.000000</td>\n",
       "      <td>5.000000</td>\n",
       "      <td>0.500000</td>\n",
       "      <td>5.000000</td>\n",
       "      <td>0.500000</td>\n",
       "      <td>1.000000</td>\n",
       "      <td>1.000000</td>\n",
       "      <td>1.000000</td>\n",
       "      <td>1.000000</td>\n",
       "      <td>61.000000</td>\n",
       "      <td>69.000000</td>\n",
       "      <td>64.000000</td>\n",
       "      <td>78.000000</td>\n",
       "      <td>0.841635</td>\n",
       "      <td>0.825608</td>\n",
       "      <td>0.810977</td>\n",
       "      <td>0.829423</td>\n",
       "    </tr>\n",
       "    <tr>\n",
       "      <th>75%</th>\n",
       "      <td>303215.750000</td>\n",
       "      <td>346572.000000</td>\n",
       "      <td>354682.500000</td>\n",
       "      <td>1.000000</td>\n",
       "      <td>7.000000</td>\n",
       "      <td>7.000000</td>\n",
       "      <td>14.000000</td>\n",
       "      <td>7.000000</td>\n",
       "      <td>7.000000</td>\n",
       "      <td>13.000000</td>\n",
       "      <td>3.000000</td>\n",
       "      <td>7.000000</td>\n",
       "      <td>1.000000</td>\n",
       "      <td>6.500000</td>\n",
       "      <td>1.000000</td>\n",
       "      <td>1.000000</td>\n",
       "      <td>1.000000</td>\n",
       "      <td>2.000000</td>\n",
       "      <td>2.000000</td>\n",
       "      <td>79.000000</td>\n",
       "      <td>86.000000</td>\n",
       "      <td>80.000000</td>\n",
       "      <td>93.000000</td>\n",
       "      <td>0.930926</td>\n",
       "      <td>0.930472</td>\n",
       "      <td>0.908579</td>\n",
       "      <td>0.912457</td>\n",
       "    </tr>\n",
       "    <tr>\n",
       "      <th>max</th>\n",
       "      <td>404289.000000</td>\n",
       "      <td>537932.000000</td>\n",
       "      <td>537933.000000</td>\n",
       "      <td>1.000000</td>\n",
       "      <td>53.000000</td>\n",
       "      <td>100.000000</td>\n",
       "      <td>114.000000</td>\n",
       "      <td>51.000000</td>\n",
       "      <td>83.000000</td>\n",
       "      <td>97.000000</td>\n",
       "      <td>22.000000</td>\n",
       "      <td>57.000000</td>\n",
       "      <td>44.500000</td>\n",
       "      <td>48.500000</td>\n",
       "      <td>36.000000</td>\n",
       "      <td>15.000000</td>\n",
       "      <td>20.000000</td>\n",
       "      <td>89.000000</td>\n",
       "      <td>72.000000</td>\n",
       "      <td>100.000000</td>\n",
       "      <td>100.000000</td>\n",
       "      <td>100.000000</td>\n",
       "      <td>100.000000</td>\n",
       "      <td>1.000000</td>\n",
       "      <td>1.000000</td>\n",
       "      <td>1.000000</td>\n",
       "      <td>1.000000</td>\n",
       "    </tr>\n",
       "  </tbody>\n",
       "</table>\n",
       "</div>"
      ],
      "text/plain": [
       "                  id           qid1           qid2   is_duplicate  \\\n",
       "count  404214.000000  404214.000000  404214.000000  404214.000000   \n",
       "mean   202145.153372  217245.331409  220951.676825       0.369252   \n",
       "std    116707.808896  157750.734242  159901.862716       0.482603   \n",
       "min         0.000000       1.000000       2.000000       0.000000   \n",
       "25%    101076.250000   74441.500000   74725.250000       0.000000   \n",
       "50%    202142.500000  192188.000000  197052.000000       0.000000   \n",
       "75%    303215.750000  346572.000000  354682.500000       1.000000   \n",
       "max    404289.000000  537932.000000  537933.000000       1.000000   \n",
       "\n",
       "        words_num_q1   words_num_q2    words_total  words_num_uniq_q1  \\\n",
       "count  404214.000000  404214.000000  404214.000000      404214.000000   \n",
       "mean        5.463366       5.524413      10.987779           5.318960   \n",
       "std         2.943242       3.231374       5.365478           2.731966   \n",
       "min         0.000000       0.000000       1.000000           0.000000   \n",
       "25%         3.000000       3.000000       7.000000           3.000000   \n",
       "50%         5.000000       5.000000      10.000000           5.000000   \n",
       "75%         7.000000       7.000000      14.000000           7.000000   \n",
       "max        53.000000     100.000000     114.000000          51.000000   \n",
       "\n",
       "       words_num_uniq_q2  words_num_uniq_total  words_intersection  \\\n",
       "count      404214.000000         404214.000000       404214.000000   \n",
       "mean            5.364631             10.683591            2.486510   \n",
       "std             2.959685              4.973699            1.691037   \n",
       "min             0.000000              1.000000            0.000000   \n",
       "25%             3.000000              7.000000            1.000000   \n",
       "50%             5.000000             10.000000            2.000000   \n",
       "75%             7.000000             13.000000            3.000000   \n",
       "max            83.000000             97.000000           22.000000   \n",
       "\n",
       "       average_words  standard_deviation_words  average_words_uniq  \\\n",
       "count  404214.000000             404214.000000       404214.000000   \n",
       "mean        5.493889                  0.933347            5.341795   \n",
       "std         2.682739                  1.218577            2.486849   \n",
       "min         0.500000                  0.000000            0.500000   \n",
       "25%         3.500000                  0.000000            3.500000   \n",
       "50%         5.000000                  0.500000            5.000000   \n",
       "75%         7.000000                  1.000000            6.500000   \n",
       "max        57.000000                 44.500000           48.500000   \n",
       "\n",
       "       standard_deviation_words_uniq   freq_word_q1   freq_word_q2  \\\n",
       "count                  404214.000000  404214.000000  404214.000000   \n",
       "mean                        0.863752       1.107532       1.116186   \n",
       "std                         1.087069       0.342216       0.358317   \n",
       "min                         0.000000       0.000000       0.000000   \n",
       "25%                         0.000000       1.000000       1.000000   \n",
       "50%                         0.500000       1.000000       1.000000   \n",
       "75%                         1.000000       1.000000       1.000000   \n",
       "max                        36.000000      15.000000      20.000000   \n",
       "\n",
       "            abs_diff  abs_diff_uniq     fuzz_ratio  fuzz_partial_ratio  \\\n",
       "count  404214.000000  404214.000000  404214.000000       404214.000000   \n",
       "mean        1.866694       1.727503      62.265957           69.811584   \n",
       "std         2.437155       2.174138      20.457926           20.046738   \n",
       "min         0.000000       0.000000       0.000000            0.000000   \n",
       "25%         0.000000       0.000000      45.000000           54.000000   \n",
       "50%         1.000000       1.000000      61.000000           69.000000   \n",
       "75%         2.000000       2.000000      79.000000           86.000000   \n",
       "max        89.000000      72.000000     100.000000          100.000000   \n",
       "\n",
       "       token_sort_ratio  token_set_ratio  similarity_w2v  \\\n",
       "count     404214.000000    404214.000000   404214.000000   \n",
       "mean          64.600868        74.629189        0.766157   \n",
       "std           19.746033        21.275335        0.234743   \n",
       "min            0.000000         0.000000       -0.427180   \n",
       "25%           50.000000        60.000000        0.686491   \n",
       "50%           64.000000        78.000000        0.841635   \n",
       "75%           80.000000        93.000000        0.930926   \n",
       "max          100.000000       100.000000        1.000000   \n",
       "\n",
       "       similarity_unweighted_w2v  similarity_glove  \\\n",
       "count              404214.000000     404214.000000   \n",
       "mean                    0.748180          0.753530   \n",
       "std                     0.246240          0.215049   \n",
       "min                    -0.417789         -0.340878   \n",
       "25%                     0.647555          0.664065   \n",
       "50%                     0.825608          0.810977   \n",
       "75%                     0.930472          0.908579   \n",
       "max                     1.000000          1.000000   \n",
       "\n",
       "       similarity_unweighted_glove  \n",
       "count                404214.000000  \n",
       "mean                      0.776975  \n",
       "std                       0.195238  \n",
       "min                      -0.333697  \n",
       "25%                       0.704250  \n",
       "50%                       0.829423  \n",
       "75%                       0.912457  \n",
       "max                       1.000000  "
      ]
     },
     "execution_count": 21,
     "metadata": {},
     "output_type": "execute_result"
    }
   ],
   "source": [
    "df_data.describe()"
   ]
  },
  {
   "cell_type": "markdown",
   "id": "e316f566-89d9-4772-9779-70706250b20c",
   "metadata": {},
   "source": [
    "The whiskers in the boxplots below indicate the zeroth and 100th percentile for the lower and upper whiskers respectively. The default values are 25th and 75th percentile for the lower and upper whiskers respectively. The green circle is the location of the mean of the distribution."
   ]
  },
  {
   "cell_type": "code",
   "execution_count": 22,
   "id": "23b1d152-7b13-4535-b358-ae78ee1e3c67",
   "metadata": {},
   "outputs": [
    {
     "data": {
      "image/png": "[encoded data removed]",
      "text/plain": [
       "<Figure size 1200x2000 with 23 Axes>"
      ]
     },
     "metadata": {},
     "output_type": "display_data"
    }
   ],
   "source": [
    "plotting.plot_boxplots(df_data,features,'is_duplicate',8)"
   ]
  },
  {
   "cell_type": "markdown",
   "id": "fc6b303e-3b54-4dc4-905e-4b05dfa7e096",
   "metadata": {},
   "source": [
    "## Scale Features <a id='scale'></a>"
   ]
  },
  {
   "cell_type": "markdown",
   "id": "9b915e66-bd91-4281-97e9-82d9ccc5c2d3",
   "metadata": {},
   "source": [
    "Standardization typically means rescale data to have a mean of $0$ and a standard deviation of $1$ (unit variance). \n",
    "\\begin{equation}\n",
    "    X^{\\prime} = \\frac{X - \\mu}{\\sigma}\n",
    "\\end{equation}\n",
    "where $\\mu$ is the mean of the feature values and $\\sigma$ is the standard deviation of the feature values. Standardization is good because having features on a similar scale can help the gradient descent converge more quickly towards the minima. Also, standardizing the features around the center and $0$ with a standard deviation of $1$ is important when we compare measurements that have different units. Variables that are measured at different scales do not contribute equally to the analysis and might end up creating a bias. These transformations (standardization and taking the logarithm) can make a big effect when building a model like linear (ridge or lasso) regression. Tree-based methods such as XgBoost are not affected by such transformation."
   ]
  },
  {
   "cell_type": "code",
   "execution_count": 23,
   "id": "c84b9239-2d24-4dba-b53e-33181419a1d6",
   "metadata": {},
   "outputs": [],
   "source": [
    "word_embeddings_similarities = ['similarity_w2v','similarity_unweighted_w2v','similarity_glove','similarity_unweighted_glove']"
   ]
  },
  {
   "cell_type": "code",
   "execution_count": 24,
   "id": "a463ba92-3cf0-48fd-9d75-3a3e6916ef9b",
   "metadata": {},
   "outputs": [],
   "source": [
    "X_train_final , X_test_final = utils.scale(df_data,X_train,X_test,word_embeddings_similarities,features,'id','left')"
   ]
  },
  {
   "cell_type": "markdown",
   "id": "ca12bd13-9b34-43e2-9c0d-4ef16f2e0084",
   "metadata": {},
   "source": [
    "## Metrics Used <a id='metrics'></a>"
   ]
  },
  {
   "cell_type": "markdown",
   "id": "bdaadc48-963f-43db-8aa6-315218c7afcd",
   "metadata": {},
   "source": [
    "Balanced accuracy and Matthew's Correlation Coefficients (MCC) are used along accuracy because the dataset is imbalanced. Balanced accuracy is the mean of classes accuracy. When the outcome classes are the same size, accuracy and balanced accuracy give the same result. MCC take into account all of the elements in the confusion matrix. Its range is between $[-1,1]$ with $1$ means all classes are predicted well, $-1$ means all classes are predicted wrong, and $0$ means that the classifier is no better than a flip of a fair coin. MCC is also known as the phi coefficient. MCC is a reliable statistical rate which produces a high score only if the prediction obtained good results in all of the four confusion matrix categories (true positives, false negatives, true negatives, and false positives). MCC is symmetric; hence, it is not sensitive if some classes have more or less samples than others. Moreover, binary log loss function and training time are used to measure the performance of the models to minimize them.\n",
    "\n",
    "$$ Accuracy = \\frac{TP + TN}{TP + TN + FP + FN} $$\n",
    "\n",
    "$$Balanced \\; Accuracy = \\frac{TPR + TNR}{2} = \\frac{\\frac{TP}{TP+FN} + \\frac{TN}{TN+FP}}{2} = \\frac{\\text{Sensitivity} + \\text{Specificity}}{2}$$\n",
    "\n",
    "$$MCC = \\frac{TN \\times TP - FP \\times FN}{\\sqrt{(TN+FN)(FP+TP)(TN+FP)(FN+TP)}}$$\n",
    "\n",
    "$$logloss = - \\frac{1}{N}\\sum_{i=1}^{N} y_{i}\\ln(p(y_{i})) + (1-y_{i})\\ln(1-p(y_{i})) $$"
   ]
  },
  {
   "cell_type": "markdown",
   "id": "24512292-3e79-497c-8602-8d4ec624f492",
   "metadata": {},
   "source": [
    "## Models <a id='models'></a>"
   ]
  },
  {
   "cell_type": "markdown",
   "id": "294cb450-e205-4f70-ba72-43a1afb4afd4",
   "metadata": {},
   "source": [
    "Random Forest and XgBoost are not affected by scaling and multicollinearity in terms of accuracy. Hence, all features will be supplied to these two algorithms. Interpretability can be affected, so further analysis below will be provided."
   ]
  },
  {
   "cell_type": "code",
   "execution_count": 25,
   "id": "f803bc33-5144-4c56-82cc-70501edc3cd1",
   "metadata": {},
   "outputs": [],
   "source": [
    "chosen_features = ['words_num_q1', 'words_num_q2', 'words_total','words_num_uniq_q1', 'words_num_uniq_q2', 'words_num_uniq_total',\n",
    "                    'words_intersection', 'average_words', 'standard_deviation_words', 'average_words_uniq', 'standard_deviation_words_uniq', \n",
    "                    'freq_word_q1','freq_word_q2', 'abs_diff', 'abs_diff_uniq', 'fuzz_ratio','fuzz_partial_ratio', 'token_sort_ratio', \n",
    "                    'token_set_ratio']\n",
    "chosen_scaled_features = [feature+'_scaled' for feature in chosen_features]"
   ]
  },
  {
   "cell_type": "code",
   "execution_count": 26,
   "id": "9021bcab-0543-4a93-846e-13e2c5cce560",
   "metadata": {},
   "outputs": [],
   "source": [
    "test_results = pd.DataFrame(columns=['Model Name','Accuracy','Balanced Accuracy','MCC','Logloss','Time'])"
   ]
  },
  {
   "cell_type": "markdown",
   "id": "b15794b1-fd60-4efb-b4fe-f2e301b4f7f6",
   "metadata": {},
   "source": [
    "### 1. Logistic Regression"
   ]
  },
  {
   "cell_type": "code",
   "execution_count": 27,
   "id": "d89c3d4f-d600-4c8f-a9f5-88a75170b3ba",
   "metadata": {},
   "outputs": [],
   "source": [
    "lr_params = {'random_state': [LR_RANDOM_STATE], \n",
    "             'penalty': ['l2'], \n",
    "             'C': [100, 10, 1.0, 0.1, 0.01]}"
   ]
  },
  {
   "cell_type": "markdown",
   "id": "24dae8f5-0e4b-4572-ba52-4476ec349696",
   "metadata": {},
   "source": [
    "#### 1.1 Logistic Regression + unweighted Word2Vec"
   ]
  },
  {
   "cell_type": "code",
   "execution_count": 28,
   "id": "7a4df3ff-ec7d-45fc-a990-878a44ce4d87",
   "metadata": {},
   "outputs": [],
   "source": [
    "X_train_lr_un_w2v = X_train_final[chosen_scaled_features + ['similarity_unweighted_w2v_scaled']].copy()\n",
    "X_test_lr_un_w2v = X_test_final[chosen_scaled_features + ['similarity_unweighted_w2v_scaled']].copy()\n",
    "lr_un_w2v , train_time_lr_un_w2v = train.train_logistic_regression(DIRECTORY_INTER,\n",
    "                                                                   LR_UN_W2V_FILENAME,\n",
    "                                                                   LR_UN_W2V_TIME_FILENAME,\n",
    "                                                                   lr_params,\n",
    "                                                                   X_train_lr_un_w2v,\n",
    "                                                                   y_train.values.ravel())\n",
    "lr_un_w2v_preds_test = lr_un_w2v.predict(X_test_lr_un_w2v)"
   ]
  },
  {
   "cell_type": "code",
   "execution_count": 29,
   "id": "68810779-5b7a-4af2-ba71-4e372423412d",
   "metadata": {},
   "outputs": [
    {
     "name": "stdout",
     "output_type": "stream",
     "text": [
      "Accuracy = 0.6675531585913437 \n",
      "Balanced Accuracy = 0.6331011022115836 \n",
      "MCC = 0.2725011630037871 \n",
      "logloss = 0.5429176126511699 \n",
      "training time = 2.6704089641571045\n"
     ]
    }
   ],
   "source": [
    "test_results = utils.display_results(lr_un_w2v,\n",
    "                                     'Logistic Regression + unweighted Word2Vec',\n",
    "                                     lr_un_w2v_preds_test,\n",
    "                                     X_test_lr_un_w2v,\n",
    "                                     y_test,\n",
    "                                     test_results,\n",
    "                                     train_time_lr_un_w2v)"
   ]
  },
  {
   "cell_type": "markdown",
   "id": "ff378ba5-58f2-4a53-af34-7780c4e160ef",
   "metadata": {},
   "source": [
    "#### 1.2 Logistic Regression + weighted TF-IDF Word2Vec"
   ]
  },
  {
   "cell_type": "code",
   "execution_count": 30,
   "id": "3baf3acc-4a59-4391-a43b-aa1f3e1c9564",
   "metadata": {},
   "outputs": [],
   "source": [
    "X_train_lr_w2v = X_train_final[chosen_scaled_features + ['similarity_w2v_scaled']].copy()\n",
    "X_test_lr_w2v = X_test_final[chosen_scaled_features + ['similarity_w2v_scaled']].copy()\n",
    "lr_w2v , train_time_lr_w2v = train.train_logistic_regression(DIRECTORY_INTER,\n",
    "                                                             LR_W2V_FILENAME,\n",
    "                                                             LR_W2V_TIME_FILENAME,\n",
    "                                                             lr_params,\n",
    "                                                             X_train_lr_w2v,\n",
    "                                                             y_train.values.ravel())\n",
    "lr_w2v_preds_test = lr_w2v.predict(X_test_lr_w2v)"
   ]
  },
  {
   "cell_type": "code",
   "execution_count": 31,
   "id": "07335c2a-7a3f-41f1-8367-b02ecaef480c",
   "metadata": {},
   "outputs": [
    {
     "name": "stdout",
     "output_type": "stream",
     "text": [
      "Accuracy = 0.6678500303056542 \n",
      "Balanced Accuracy = 0.6336280979576452 \n",
      "MCC = 0.27342840734097057 \n",
      "logloss = 0.5417790012019844 \n",
      "training time = 2.5295729637145996\n"
     ]
    }
   ],
   "source": [
    "test_results = utils.display_results(lr_w2v,\n",
    "                                     'Logistic Regression + weighted Word2Vec',\n",
    "                                     lr_w2v_preds_test,\n",
    "                                     X_test_lr_w2v,\n",
    "                                     y_test,\n",
    "                                     test_results,\n",
    "                                     train_time_lr_w2v)"
   ]
  },
  {
   "cell_type": "markdown",
   "id": "0786ac30-67bb-4b81-b297-12a4e0e1cbdc",
   "metadata": {},
   "source": [
    "#### 1.3 Logistic Regression + unweighted GloVe"
   ]
  },
  {
   "cell_type": "code",
   "execution_count": 32,
   "id": "c6b97f2b-a6ad-4bee-b7e0-34b46a66fb27",
   "metadata": {},
   "outputs": [],
   "source": [
    "X_train_lr_un_glove = X_train_final[chosen_scaled_features + ['similarity_unweighted_glove_scaled']].copy()\n",
    "X_test_lr_un_glove = X_test_final[chosen_scaled_features + ['similarity_unweighted_glove_scaled']].copy()\n",
    "lr_un_glove , train_time_lr_un_glove = train.train_logistic_regression(DIRECTORY_INTER,\n",
    "                                                                       LR_UN_GLOVE_FILENAME,\n",
    "                                                                       LR_UN_GLOVE_TIME_FILENAME,\n",
    "                                                                       lr_params,\n",
    "                                                                       X_train_lr_un_glove,\n",
    "                                                                       y_train.values.ravel())\n",
    "lr_un_glove_preds_test = lr_un_glove.predict(X_test_lr_un_glove)"
   ]
  },
  {
   "cell_type": "code",
   "execution_count": 33,
   "id": "0b77c3ae-b0fc-4fac-9b04-d3a097ab1961",
   "metadata": {},
   "outputs": [
    {
     "name": "stdout",
     "output_type": "stream",
     "text": [
      "Accuracy = 0.6734411142585011 \n",
      "Balanced Accuracy = 0.6399490419743654 \n",
      "MCC = 0.2861205534978876 \n",
      "logloss = 0.5414384449302516 \n",
      "training time = 2.5108749866485596\n"
     ]
    }
   ],
   "source": [
    "test_results = utils.display_results(lr_un_glove,\n",
    "                                     'Logistic Regression + unweighted GloVe',\n",
    "                                     lr_un_glove_preds_test,\n",
    "                                     X_test_lr_un_glove,\n",
    "                                     y_test,\n",
    "                                     test_results,\n",
    "                                     train_time_lr_un_glove)"
   ]
  },
  {
   "cell_type": "markdown",
   "id": "b33beac5-665a-4726-8378-645cffdb6301",
   "metadata": {},
   "source": [
    "#### 1.4 Logistic Regression + weighted TF-IDF GloVe"
   ]
  },
  {
   "cell_type": "code",
   "execution_count": 34,
   "id": "1d47f030-5ce9-4b76-bca8-dbe110053a33",
   "metadata": {},
   "outputs": [],
   "source": [
    "X_train_lr_glove = X_train_final[chosen_scaled_features + ['similarity_glove_scaled']].copy()\n",
    "X_test_lr_glove = X_test_final[chosen_scaled_features + ['similarity_glove_scaled']].copy()\n",
    "lr_glove , train_time_lr_glove = train.train_logistic_regression(DIRECTORY_INTER,\n",
    "                                                                 LR_GLOVE_FILENAME,\n",
    "                                                                 LR_GLOVE_TIME_FILENAME,\n",
    "                                                                 lr_params,\n",
    "                                                                 X_train_lr_glove,\n",
    "                                                                 y_train.values.ravel())\n",
    "lr_glove_preds_test = lr_glove.predict(X_test_lr_glove)"
   ]
  },
  {
   "cell_type": "code",
   "execution_count": 35,
   "id": "dc87bed7-0188-4693-85dd-faaf560c7f82",
   "metadata": {},
   "outputs": [
    {
     "name": "stdout",
     "output_type": "stream",
     "text": [
      "Accuracy = 0.6747028190443205 \n",
      "Balanced Accuracy = 0.6414005847282271 \n",
      "MCC = 0.28901430913224574 \n",
      "logloss = 0.5431618648645071 \n",
      "training time = 2.417210817337036\n"
     ]
    }
   ],
   "source": [
    "test_results = utils.display_results(lr_glove,\n",
    "                                     'Logistic Regression + weighted GloVe',\n",
    "                                     lr_glove_preds_test,\n",
    "                                     X_test_lr_glove,\n",
    "                                     y_test,\n",
    "                                     test_results,\n",
    "                                     train_time_lr_glove)"
   ]
  },
  {
   "cell_type": "markdown",
   "id": "c01bd5d5-ac35-4149-8f3f-7c23b3295ae2",
   "metadata": {},
   "source": [
    "### 2. Neural Network"
   ]
  },
  {
   "cell_type": "code",
   "execution_count": 36,
   "id": "3ddd7dca-53b8-4c03-9b3f-3df56e8e6d86",
   "metadata": {},
   "outputs": [],
   "source": [
    "nn_params = {'random_state': [NN_RANDOM_STATE],\n",
    "             'hidden_sizes':[(64,32), (128,64), (256,128)],\n",
    "             'batch_size':[32,64,128,256],\n",
    "             'dropout_rate':[0.0,0.1,0.2,0.3], }"
   ]
  },
  {
   "cell_type": "markdown",
   "id": "7857c273-304e-4b76-851e-837e8e38462f",
   "metadata": {},
   "source": [
    "#### 2.1 Neural Network + unweighted Word2Vec"
   ]
  },
  {
   "cell_type": "code",
   "execution_count": 37,
   "id": "3580136b-ef7f-4a4e-96d1-114a9cc2df45",
   "metadata": {
    "tags": []
   },
   "outputs": [
    {
     "name": "stderr",
     "output_type": "stream",
     "text": [
      "2022-01-25 16:28:04.271133: I tensorflow/core/platform/cpu_feature_guard.cc:151] This TensorFlow binary is optimized with oneAPI Deep Neural Network Library (oneDNN) to use the following CPU instructions in performance-critical operations:  AVX2 FMA\n",
      "To enable them in other operations, rebuild TensorFlow with the appropriate compiler flags.\n"
     ]
    }
   ],
   "source": [
    "X_train_nn_un_w2v = X_train_final[chosen_scaled_features + ['similarity_unweighted_w2v_scaled']].copy()\n",
    "X_test_nn_un_w2v = X_test_final[chosen_scaled_features + ['similarity_unweighted_w2v_scaled']].copy()\n",
    "nn_un_w2v , train_time_nn_un_w2v = train.train_neural_network(DIRECTORY_INTER,\n",
    "                                                              NN_UN_W2V_FILENAME,\n",
    "                                                              NN_UN_W2V_TIME_FILENAME,\n",
    "                                                              nn_params,\n",
    "                                                              X_train_nn_un_w2v,\n",
    "                                                              y_train)\n",
    "nn_un_w2v_preds_test = nn_un_w2v.predict(X_test_nn_un_w2v)"
   ]
  },
  {
   "cell_type": "code",
   "execution_count": 38,
   "id": "e521c505-756e-4cf9-ac94-047921f3007f",
   "metadata": {},
   "outputs": [
    {
     "name": "stdout",
     "output_type": "stream",
     "text": [
      "Accuracy = 0.7301559813465606 \n",
      "Balanced Accuracy = 0.7154693699684271 \n",
      "MCC = 0.42689038038997834 \n",
      "logloss = 0.48357377673954033 \n",
      "training time = 121.4465217590332\n"
     ]
    }
   ],
   "source": [
    "test_results = utils.display_results(nn_un_w2v,\n",
    "                                     'Neural Network + unweighted Word2Vec',\n",
    "                                     nn_un_w2v_preds_test,\n",
    "                                     X_test_nn_un_w2v,\n",
    "                                     y_test,\n",
    "                                     test_results,\n",
    "                                     train_time_nn_un_w2v)"
   ]
  },
  {
   "cell_type": "markdown",
   "id": "43ee7aac-f6ef-402c-ae9c-eaacd4db0c7a",
   "metadata": {},
   "source": [
    "#### 2.2 Neural Network + weighted TF-IDF Word2Vec"
   ]
  },
  {
   "cell_type": "code",
   "execution_count": 39,
   "id": "0ea7fc74-3411-4a9b-8fff-7ce9f5fb69c1",
   "metadata": {
    "scrolled": true,
    "tags": []
   },
   "outputs": [],
   "source": [
    "X_train_nn_w2v = X_train_final[chosen_scaled_features + ['similarity_w2v_scaled']].copy()\n",
    "X_test_nn_w2v = X_test_final[chosen_scaled_features + ['similarity_w2v_scaled']].copy()\n",
    "nn_w2v , train_time_nn_w2v = train.train_neural_network(DIRECTORY_INTER,\n",
    "                                                        NN_W2V_FILENAME,\n",
    "                                                        NN_W2V_TIME_FILENAME,\n",
    "                                                        nn_params,\n",
    "                                                        X_train_nn_w2v,\n",
    "                                                        y_train)\n",
    "nn_w2v_preds_test = nn_w2v.predict(X_test_nn_w2v)"
   ]
  },
  {
   "cell_type": "code",
   "execution_count": 40,
   "id": "dbd85545-10ef-4a0c-b675-3757d46c920c",
   "metadata": {},
   "outputs": [
    {
     "name": "stdout",
     "output_type": "stream",
     "text": [
      "Accuracy = 0.7305518102989745 \n",
      "Balanced Accuracy = 0.7110053988911584 \n",
      "MCC = 0.42181520518897775 \n",
      "logloss = 0.4820227626748648 \n",
      "training time = 111.96241188049316\n"
     ]
    }
   ],
   "source": [
    "test_results = utils.display_results(nn_w2v,\n",
    "                                     'Neural Network + weighted Word2Vec',\n",
    "                                     nn_w2v_preds_test,\n",
    "                                     X_test_nn_w2v,\n",
    "                                     y_test,\n",
    "                                     test_results,\n",
    "                                     train_time_nn_w2v)"
   ]
  },
  {
   "cell_type": "markdown",
   "id": "6acd9abf-32de-42e4-842c-0201a91cd1fd",
   "metadata": {},
   "source": [
    "#### 2.3 Neural Network + unweighted GloVe"
   ]
  },
  {
   "cell_type": "code",
   "execution_count": 41,
   "id": "75cd082f-339b-4246-8dfb-346ee4521c4d",
   "metadata": {
    "scrolled": true,
    "tags": []
   },
   "outputs": [],
   "source": [
    "X_train_nn_un_glove = X_train_final[chosen_scaled_features + ['similarity_unweighted_glove_scaled']].copy()\n",
    "X_test_nn_un_glove = X_test_final[chosen_scaled_features + ['similarity_unweighted_glove_scaled']].copy()\n",
    "nn_un_glove , train_time_nn_un_glove = train.train_neural_network(DIRECTORY_INTER,\n",
    "                                                                  NN_UN_GLOVE_FILENAME,\n",
    "                                                                  NN_UN_GLOVE_TIME_FILENAME,\n",
    "                                                                  nn_params,\n",
    "                                                                  X_train_nn_un_glove,\n",
    "                                                                  y_train)\n",
    "nn_un_glove_preds_test = nn_un_glove.predict(X_test_nn_un_glove)"
   ]
  },
  {
   "cell_type": "code",
   "execution_count": 42,
   "id": "812e592e-1656-4ba0-a654-e7397ea7c4ab",
   "metadata": {},
   "outputs": [
    {
     "name": "stdout",
     "output_type": "stream",
     "text": [
      "Accuracy = 0.7264574545724429 \n",
      "Balanced Accuracy = 0.70693340838149 \n",
      "MCC = 0.4134112015353379 \n",
      "logloss = 0.48762009930031114 \n",
      "training time = 115.1423408985138\n"
     ]
    }
   ],
   "source": [
    "test_results = utils.display_results(nn_un_glove,\n",
    "                                     'Neural Network + unweighted GloVe',\n",
    "                                     nn_un_glove_preds_test,\n",
    "                                     X_test_nn_un_glove,\n",
    "                                     y_test,\n",
    "                                     test_results,\n",
    "                                     train_time_nn_un_glove)"
   ]
  },
  {
   "cell_type": "markdown",
   "id": "602e87ef-3497-4615-a7d3-f736e9a42bac",
   "metadata": {},
   "source": [
    "#### 2.4 Neural Network + weighted TF-IDF GloVe"
   ]
  },
  {
   "cell_type": "code",
   "execution_count": 43,
   "id": "8f9fd733-a792-4b4f-b17e-49eada9d9b7f",
   "metadata": {
    "scrolled": true,
    "tags": []
   },
   "outputs": [],
   "source": [
    "X_train_nn_glove = X_train_final[chosen_scaled_features + ['similarity_glove_scaled']].copy()\n",
    "X_test_nn_glove = X_test_final[chosen_scaled_features + ['similarity_glove_scaled']].copy()\n",
    "nn_glove , train_time_nn_glove = train.train_neural_network(DIRECTORY_INTER,\n",
    "                                                            NN_GLOVE_FILENAME,\n",
    "                                                            NN_GLOVE_TIME_FILENAME,\n",
    "                                                            nn_params,\n",
    "                                                            X_train_nn_glove,\n",
    "                                                            y_train)\n",
    "nn_glove_preds_test = nn_glove.predict(X_test_nn_glove)"
   ]
  },
  {
   "cell_type": "code",
   "execution_count": 44,
   "id": "3cd59b5b-6fe0-4370-97fe-873e0f47d213",
   "metadata": {},
   "outputs": [
    {
     "name": "stdout",
     "output_type": "stream",
     "text": [
      "Accuracy = 0.7272738517867966 \n",
      "Balanced Accuracy = 0.7058166916420165 \n",
      "MCC = 0.41284532780486893 \n",
      "logloss = 0.4876569048641938 \n",
      "training time = 149.94767308235168\n"
     ]
    }
   ],
   "source": [
    "test_results = utils.display_results(nn_glove,\n",
    "                                     'Neural Network + weighted GloVe',\n",
    "                                     nn_glove_preds_test,\n",
    "                                     X_test_nn_glove,\n",
    "                                     y_test,\n",
    "                                     test_results,\n",
    "                                     train_time_nn_glove)"
   ]
  },
  {
   "cell_type": "markdown",
   "id": "015669d1-5c58-4b76-adf0-01019af4528e",
   "metadata": {
    "tags": []
   },
   "source": [
    "### 3. Randon Forest"
   ]
  },
  {
   "cell_type": "code",
   "execution_count": 45,
   "id": "5ebbfd45-c7bc-4b76-8770-cb9f3f35371c",
   "metadata": {},
   "outputs": [],
   "source": [
    "rf_params = {'random_state': [RF_RANDOM_STATE], \n",
    "             'n_estimators': [10, 50, 100],\n",
    "             'max_depth': [5, 10, 20],\n",
    "             'max_features': ['sqrt', 'log2']}"
   ]
  },
  {
   "cell_type": "markdown",
   "id": "aee76aa8-3cc3-441a-a6ff-acf96ba58740",
   "metadata": {},
   "source": [
    "#### 3.1 Random Forest + unweighted Word2Vec"
   ]
  },
  {
   "cell_type": "code",
   "execution_count": 46,
   "id": "95c03426-fc13-4b98-a93d-171b0e987e61",
   "metadata": {
    "scrolled": true,
    "tags": []
   },
   "outputs": [],
   "source": [
    "X_train_rf_un_w2v = X_train_final[chosen_features + ['similarity_unweighted_w2v']].copy()\n",
    "X_test_rf_un_w2v = X_test_final[chosen_features + ['similarity_unweighted_w2v']].copy()\n",
    "rf_un_w2v , train_time_rf_un_w2v = train.train_random_forest(DIRECTORY_INTER,\n",
    "                                                             RF_UN_W2V_FILENAME,\n",
    "                                                             RF_UN_W2V_TIME_FILENAME,\n",
    "                                                             rf_params,\n",
    "                                                             X_train_rf_un_w2v,\n",
    "                                                             y_train.values.ravel())\n",
    "rf_un_w2v_preds_test = rf_un_w2v.predict(X_test_rf_un_w2v)"
   ]
  },
  {
   "cell_type": "code",
   "execution_count": 47,
   "id": "264103e5-d196-4cdb-b0f3-fe95375d4555",
   "metadata": {},
   "outputs": [
    {
     "name": "stdout",
     "output_type": "stream",
     "text": [
      "Accuracy = 0.7493907945029255 \n",
      "Balanced Accuracy = 0.7441889917864941 \n",
      "MCC = 0.478138113637368 \n",
      "logloss = 0.4657612154947162 \n",
      "training time = 69.57331609725952\n"
     ]
    }
   ],
   "source": [
    "test_results = utils.display_results(rf_un_w2v,\n",
    "                                     'Random Forest + unweighted Word2Vec',\n",
    "                                     rf_un_w2v_preds_test,\n",
    "                                     X_test_rf_un_w2v,\n",
    "                                     y_test,\n",
    "                                     test_results,\n",
    "                                     train_time_rf_un_w2v)"
   ]
  },
  {
   "cell_type": "markdown",
   "id": "49837e87-9ca0-4cf6-9a97-8bde139a142c",
   "metadata": {},
   "source": [
    "#### 3.2 Random Forest + weighted TF-IDF Word2Vec"
   ]
  },
  {
   "cell_type": "code",
   "execution_count": 48,
   "id": "222a4bc8-0485-48c5-a75d-bfb2d394f5d9",
   "metadata": {
    "scrolled": true,
    "tags": []
   },
   "outputs": [],
   "source": [
    "X_train_rf_w2v = X_train_final[chosen_features + ['similarity_w2v']].copy()\n",
    "X_test_rf_w2v = X_test_final[chosen_features + ['similarity_w2v']].copy()\n",
    "rf_w2v , train_time_rf_w2v = train.train_random_forest(DIRECTORY_INTER,\n",
    "                                                       RF_W2V_FILENAME,\n",
    "                                                       RF_W2V_TIME_FILENAME,\n",
    "                                                       rf_params,\n",
    "                                                       X_train_rf_w2v,\n",
    "                                                       y_train.values.ravel())\n",
    "rf_w2v_preds_test = rf_w2v.predict(X_test_rf_w2v)"
   ]
  },
  {
   "cell_type": "code",
   "execution_count": 49,
   "id": "868df564-39ae-4324-8e02-48f94b1a5904",
   "metadata": {},
   "outputs": [
    {
     "name": "stdout",
     "output_type": "stream",
     "text": [
      "Accuracy = 0.7478198483480326 \n",
      "Balanced Accuracy = 0.742714533274914 \n",
      "MCC = 0.475128034580206 \n",
      "logloss = 0.4658917054537138 \n",
      "training time = 104.04635190963745\n"
     ]
    }
   ],
   "source": [
    "test_results = utils.display_results(rf_w2v,\n",
    "                                     'Random Forest + weighted Word2Vec',\n",
    "                                     rf_w2v_preds_test,\n",
    "                                     X_test_rf_w2v,\n",
    "                                     y_test,\n",
    "                                     test_results,\n",
    "                                     train_time_rf_w2v)"
   ]
  },
  {
   "cell_type": "markdown",
   "id": "d671fbcf-69c0-4c82-8fff-ea6730837878",
   "metadata": {},
   "source": [
    "#### 3.3 Random Forest + unweighted GloVe"
   ]
  },
  {
   "cell_type": "code",
   "execution_count": 50,
   "id": "a34b4c4f-5b6f-447b-8c94-751117a7d95d",
   "metadata": {
    "scrolled": true,
    "tags": []
   },
   "outputs": [],
   "source": [
    "X_train_rf_un_glove = X_train_final[chosen_features + ['similarity_unweighted_glove']].copy()\n",
    "X_test_rf_un_glove = X_test_final[chosen_features + ['similarity_unweighted_glove']].copy()\n",
    "rf_un_glove , train_time_rf_un_glove = train.train_random_forest(DIRECTORY_INTER,\n",
    "                                                                 RF_UN_GLOVE_FILENAME,\n",
    "                                                                 RF_UN_GLOVE_TIME_FILENAME,\n",
    "                                                                 rf_params,\n",
    "                                                                 X_train_rf_un_glove,\n",
    "                                                                 y_train.values.ravel())\n",
    "rf_un_glove_preds_test = rf_un_glove.predict(X_test_rf_un_glove)"
   ]
  },
  {
   "cell_type": "code",
   "execution_count": 51,
   "id": "ab8d6a49-0c5d-4e98-b4fb-33877942dadc",
   "metadata": {},
   "outputs": [
    {
     "name": "stdout",
     "output_type": "stream",
     "text": [
      "Accuracy = 0.7470776690622565 \n",
      "Balanced Accuracy = 0.7365012433576461 \n",
      "MCC = 0.4664075217161309 \n",
      "logloss = 0.4691033789262877 \n",
      "training time = 106.18268895149231\n"
     ]
    }
   ],
   "source": [
    "test_results = utils.display_results(rf_un_glove,\n",
    "                                     'Random Forest + unweighted GloVe',\n",
    "                                     rf_un_glove_preds_test,\n",
    "                                     X_test_rf_un_glove,\n",
    "                                     y_test,\n",
    "                                     test_results,\n",
    "                                     train_time_rf_un_glove)"
   ]
  },
  {
   "cell_type": "markdown",
   "id": "737310a2-34d1-4098-8317-303141d4433d",
   "metadata": {},
   "source": [
    "#### 3.4 Random Forest + weighted TF-IDF GloVe"
   ]
  },
  {
   "cell_type": "code",
   "execution_count": 52,
   "id": "eb58573f-b1db-401c-8b33-3dc2325edd16",
   "metadata": {
    "scrolled": true,
    "tags": []
   },
   "outputs": [],
   "source": [
    "X_train_rf_glove = X_train_final[chosen_features + ['similarity_glove']].copy()\n",
    "X_test_rf_glove = X_test_final[chosen_features + ['similarity_glove']].copy()\n",
    "rf_glove , train_time_rf_glove = train.train_random_forest(DIRECTORY_INTER,\n",
    "                                                           RF_GLOVE_FILENAME,\n",
    "                                                           RF_GLOVE_TIME_FILENAME,\n",
    "                                                           rf_params,\n",
    "                                                           X_train_rf_glove,\n",
    "                                                           y_train.values.ravel())\n",
    "rf_glove_preds_test = rf_glove.predict(X_test_rf_glove)"
   ]
  },
  {
   "cell_type": "code",
   "execution_count": 53,
   "id": "1441ef5d-b859-4943-921d-9abb9a1753af",
   "metadata": {},
   "outputs": [
    {
     "name": "stdout",
     "output_type": "stream",
     "text": [
      "Accuracy = 0.7453953960144972 \n",
      "Balanced Accuracy = 0.7363065821043596 \n",
      "MCC = 0.4649174069118509 \n",
      "logloss = 0.470662144998489 \n",
      "training time = 85.81498217582703\n"
     ]
    }
   ],
   "source": [
    "test_results = utils.display_results(rf_glove,\n",
    "                                     'Random Forest + weighted GloVe',\n",
    "                                     rf_glove_preds_test,\n",
    "                                     X_test_rf_glove,\n",
    "                                     y_test,\n",
    "                                     test_results,\n",
    "                                     train_time_rf_glove)"
   ]
  },
  {
   "cell_type": "markdown",
   "id": "210bb493-794e-4130-9879-9c115674e511",
   "metadata": {
    "tags": []
   },
   "source": [
    "### 4. XgBoost"
   ]
  },
  {
   "cell_type": "code",
   "execution_count": 54,
   "id": "3ad7a417-fa0a-4bef-b579-274f904ea5fa",
   "metadata": {},
   "outputs": [],
   "source": [
    "xgboost_params = {'random_state' : [XGBOOST_RANDOM_STATE],\n",
    "                  'max_depth': [5, 10, 20],\n",
    "                  'learning_rate': [0.1, 0.3],\n",
    "                  'n_estimators': [50, 100],\n",
    "                  'gamma': [0, 0.2],\n",
    "                  'reg_alpha': [0, 1, 1e1],\n",
    "                  'reg_lambda': [0, 1, 1e1],\n",
    "                  'base_score': [0.5],\n",
    "                  'use_label_encoder': [False]}"
   ]
  },
  {
   "cell_type": "markdown",
   "id": "0899607e-5da1-4cd8-b771-2f145722bad3",
   "metadata": {},
   "source": [
    "#### 4.1 XgBoost + unweighted Word2Vec"
   ]
  },
  {
   "cell_type": "code",
   "execution_count": 55,
   "id": "6e9e188e-a18b-432a-a92c-445b6143be2f",
   "metadata": {
    "scrolled": true,
    "tags": []
   },
   "outputs": [],
   "source": [
    "X_train_xgboost_un_w2v = X_train_final[chosen_features + ['similarity_unweighted_w2v']].copy()\n",
    "X_test_xgboost_un_w2v = X_test_final[chosen_features + ['similarity_unweighted_w2v']].copy()\n",
    "xgb_un_w2v , train_time_xgb_un_w2v = train.train_xgboost(DIRECTORY_INTER,\n",
    "                                                         XGBOOST_UN_W2V_FILENAME,\n",
    "                                                         XGBOOST_UN_W2V_TIME_FILENAME,\n",
    "                                                         xgboost_params,\n",
    "                                                         X_train_xgboost_un_w2v,\n",
    "                                                         y_train)\n",
    "xgb_un_w2v_preds_test = xgb_un_w2v.predict(X_test_xgboost_un_w2v)"
   ]
  },
  {
   "cell_type": "code",
   "execution_count": 56,
   "id": "a8b84a56-f3a0-4f3f-b386-6a485a3559a4",
   "metadata": {},
   "outputs": [
    {
     "name": "stdout",
     "output_type": "stream",
     "text": [
      "Accuracy = 0.7472632138837005 \n",
      "Balanced Accuracy = 0.737224710282385 \n",
      "MCC = 0.46746496899995893 \n",
      "logloss = 0.46144351100274644 \n",
      "training time = 212.79248213768005\n"
     ]
    }
   ],
   "source": [
    "test_results = utils.display_results(xgb_un_w2v,\n",
    "                                     'XgBoost + unweighted Word2Vec',\n",
    "                                     xgb_un_w2v_preds_test,\n",
    "                                     X_test_xgboost_un_w2v,\n",
    "                                     y_test,\n",
    "                                     test_results,\n",
    "                                     train_time_xgb_un_w2v )"
   ]
  },
  {
   "cell_type": "markdown",
   "id": "d85fd426-773e-4164-912f-364020033498",
   "metadata": {},
   "source": [
    "#### 4.2 XgBoost + weighted TF-IDF Word2Vec"
   ]
  },
  {
   "cell_type": "code",
   "execution_count": 57,
   "id": "10d752bd-5dc6-4387-989a-36f30723cda8",
   "metadata": {
    "scrolled": true,
    "tags": []
   },
   "outputs": [],
   "source": [
    "X_train_xgboost_w2v = X_train_final[chosen_features + ['similarity_w2v']].copy()\n",
    "X_test_xgboost_w2v = X_test_final[chosen_features + ['similarity_w2v']].copy()\n",
    "xgb_w2v , train_time_xgb_w2v = train.train_xgboost(DIRECTORY_INTER,\n",
    "                                                   XGBOOST_W2V_FILENAME,\n",
    "                                                   XGBOOST_W2V_TIME_FILENAME,\n",
    "                                                   xgboost_params,\n",
    "                                                   X_train_xgboost_w2v,\n",
    "                                                   y_train)\n",
    "xgb_w2v_preds_test = xgb_un_w2v.predict(X_test_xgboost_w2v)"
   ]
  },
  {
   "cell_type": "code",
   "execution_count": 58,
   "id": "3438b212-386e-4960-9098-1efbd9ba7912",
   "metadata": {},
   "outputs": [
    {
     "name": "stdout",
     "output_type": "stream",
     "text": [
      "Accuracy = 0.74199374095469 \n",
      "Balanced Accuracy = 0.7355684009132188 \n",
      "MCC = 0.46164994464559267 \n",
      "logloss = 0.46250465926908924 \n",
      "training time = 190.93228793144226\n"
     ]
    }
   ],
   "source": [
    "test_results = utils.display_results(xgb_w2v,\n",
    "                                     'XgBoost + weighted Word2Vec',\n",
    "                                     xgb_w2v_preds_test,\n",
    "                                     X_test_xgboost_w2v,\n",
    "                                     y_test,\n",
    "                                     test_results,\n",
    "                                     train_time_xgb_w2v)"
   ]
  },
  {
   "cell_type": "markdown",
   "id": "ed281e60-0779-45ad-a999-c60e2dff2d02",
   "metadata": {},
   "source": [
    "#### 4.3 XgBoost + unweighted GloVe"
   ]
  },
  {
   "cell_type": "code",
   "execution_count": 59,
   "id": "91d401d0-2109-4ef0-96e9-d9930060166a",
   "metadata": {
    "scrolled": true,
    "tags": []
   },
   "outputs": [],
   "source": [
    "X_train_xgboost_un_glove = X_train_final[chosen_features + ['similarity_unweighted_glove']].copy()\n",
    "X_test_xgboost_un_glove = X_test_final[chosen_features + ['similarity_unweighted_glove']].copy()\n",
    "xgb_un_glove , train_time_xgb_un_glove = train.train_xgboost(DIRECTORY_INTER,\n",
    "                                                             XGBOOST_UN_GLOVE_FILENAME,\n",
    "                                                             XGBOOST_UN_GLOVE_TIME_FILENAME,\n",
    "                                                             xgboost_params,\n",
    "                                                             X_train_xgboost_un_glove,\n",
    "                                                             y_train)\n",
    "xgb_un_glove_preds_test = xgb_un_glove.predict(X_test_xgboost_un_glove)"
   ]
  },
  {
   "cell_type": "code",
   "execution_count": 60,
   "id": "c7468f2a-de93-4d5f-8f99-cb531b994eb6",
   "metadata": {},
   "outputs": [
    {
     "name": "stdout",
     "output_type": "stream",
     "text": [
      "Accuracy = 0.7464468166693468 \n",
      "Balanced Accuracy = 0.73438312019249 \n",
      "MCC = 0.46327255932730166 \n",
      "logloss = 0.46546858439373456 \n",
      "training time = 189.9320797920227\n"
     ]
    }
   ],
   "source": [
    "test_results = utils.display_results(xgb_un_glove,\n",
    "                                     'XgBoost + unweighted GloVe',\n",
    "                                     xgb_un_glove_preds_test,\n",
    "                                     X_test_xgboost_un_glove,\n",
    "                                     y_test,\n",
    "                                     test_results,\n",
    "                                     train_time_xgb_un_glove)"
   ]
  },
  {
   "cell_type": "markdown",
   "id": "a70067fb-ebcf-4666-81ca-9cad26772625",
   "metadata": {},
   "source": [
    "#### 4.4 XgBoost + weighted TF-IDF GloVe"
   ]
  },
  {
   "cell_type": "code",
   "execution_count": 61,
   "id": "a2513ddf-0968-4965-9cbb-1aa1ca0fcfdf",
   "metadata": {
    "scrolled": true,
    "tags": []
   },
   "outputs": [],
   "source": [
    "X_train_xgboost_glove = X_train_final[chosen_features + ['similarity_glove']]\n",
    "X_test_xgboost_glove = X_test_final[chosen_features + ['similarity_glove']]\n",
    "xgb_glove , train_time_xgb_glove = train.train_xgboost(DIRECTORY_INTER,\n",
    "                                                       XGBOOST_GLOVE_FILENAME,\n",
    "                                                       XGBOOST_GLOVE_TIME_FILENAME,\n",
    "                                                       xgboost_params,\n",
    "                                                       X_train_xgboost_glove,\n",
    "                                                       y_train)\n",
    "xgb_glove_preds_test = xgb_glove.predict(X_test_xgboost_glove)"
   ]
  },
  {
   "cell_type": "code",
   "execution_count": 62,
   "id": "b04051fe-ee35-4f0c-aa67-4c75c165252e",
   "metadata": {},
   "outputs": [
    {
     "name": "stdout",
     "output_type": "stream",
     "text": [
      "Accuracy = 0.7459025518597776 \n",
      "Balanced Accuracy = 0.7346600085570907 \n",
      "MCC = 0.46318930499757344 \n",
      "logloss = 0.4664214548269469 \n",
      "training time = 265.38127088546753\n"
     ]
    }
   ],
   "source": [
    "test_results = utils.display_results(xgb_glove,\n",
    "                                     'XgBoost + weighted GloVe',\n",
    "                                     xgb_glove_preds_test,\n",
    "                                     X_test_xgboost_glove,\n",
    "                                     y_test,\n",
    "                                     test_results,\n",
    "                                     train_time_xgb_glove)"
   ]
  },
  {
   "cell_type": "markdown",
   "id": "9d8edcc8-7abd-49a0-aabd-3155e7a001c2",
   "metadata": {},
   "source": [
    "## Results Summary <a id='results'></a>"
   ]
  },
  {
   "cell_type": "code",
   "execution_count": 63,
   "id": "fd036794-167e-4ca0-a774-4172c0044d9a",
   "metadata": {},
   "outputs": [
    {
     "data": {
      "text/html": [
       "<div>\n",
       "<style scoped>\n",
       "    .dataframe tbody tr th:only-of-type {\n",
       "        vertical-align: middle;\n",
       "    }\n",
       "\n",
       "    .dataframe tbody tr th {\n",
       "        vertical-align: top;\n",
       "    }\n",
       "\n",
       "    .dataframe thead th {\n",
       "        text-align: right;\n",
       "    }\n",
       "</style>\n",
       "<table border=\"1\" class=\"dataframe\">\n",
       "  <thead>\n",
       "    <tr style=\"text-align: right;\">\n",
       "      <th></th>\n",
       "      <th>Model Name</th>\n",
       "      <th>Accuracy</th>\n",
       "      <th>Balanced Accuracy</th>\n",
       "      <th>MCC</th>\n",
       "      <th>Logloss</th>\n",
       "      <th>Time</th>\n",
       "    </tr>\n",
       "  </thead>\n",
       "  <tbody>\n",
       "    <tr>\n",
       "      <th>0</th>\n",
       "      <td>Logistic Regression + unweighted Word2Vec</td>\n",
       "      <td>0.667553</td>\n",
       "      <td>0.633101</td>\n",
       "      <td>0.272501</td>\n",
       "      <td>0.542918</td>\n",
       "      <td>2.670409</td>\n",
       "    </tr>\n",
       "    <tr>\n",
       "      <th>1</th>\n",
       "      <td>Logistic Regression + weighted Word2Vec</td>\n",
       "      <td>0.667850</td>\n",
       "      <td>0.633628</td>\n",
       "      <td>0.273428</td>\n",
       "      <td>0.541779</td>\n",
       "      <td>2.529573</td>\n",
       "    </tr>\n",
       "    <tr>\n",
       "      <th>2</th>\n",
       "      <td>Logistic Regression + unweighted GloVe</td>\n",
       "      <td>0.673441</td>\n",
       "      <td>0.639949</td>\n",
       "      <td>0.286121</td>\n",
       "      <td>0.541438</td>\n",
       "      <td>2.510875</td>\n",
       "    </tr>\n",
       "    <tr>\n",
       "      <th>3</th>\n",
       "      <td>Logistic Regression + weighted GloVe</td>\n",
       "      <td>0.674703</td>\n",
       "      <td>0.641401</td>\n",
       "      <td>0.289014</td>\n",
       "      <td>0.543162</td>\n",
       "      <td>2.417211</td>\n",
       "    </tr>\n",
       "    <tr>\n",
       "      <th>4</th>\n",
       "      <td>Neural Network + unweighted Word2Vec</td>\n",
       "      <td>0.730156</td>\n",
       "      <td>0.715469</td>\n",
       "      <td>0.426890</td>\n",
       "      <td>0.483574</td>\n",
       "      <td>121.446522</td>\n",
       "    </tr>\n",
       "    <tr>\n",
       "      <th>5</th>\n",
       "      <td>Neural Network + weighted Word2Vec</td>\n",
       "      <td>0.730552</td>\n",
       "      <td>0.711005</td>\n",
       "      <td>0.421815</td>\n",
       "      <td>0.482023</td>\n",
       "      <td>111.962412</td>\n",
       "    </tr>\n",
       "    <tr>\n",
       "      <th>6</th>\n",
       "      <td>Neural Network + unweighted GloVe</td>\n",
       "      <td>0.726457</td>\n",
       "      <td>0.706933</td>\n",
       "      <td>0.413411</td>\n",
       "      <td>0.487620</td>\n",
       "      <td>115.142341</td>\n",
       "    </tr>\n",
       "    <tr>\n",
       "      <th>7</th>\n",
       "      <td>Neural Network + weighted GloVe</td>\n",
       "      <td>0.727274</td>\n",
       "      <td>0.705817</td>\n",
       "      <td>0.412845</td>\n",
       "      <td>0.487657</td>\n",
       "      <td>149.947673</td>\n",
       "    </tr>\n",
       "    <tr>\n",
       "      <th>8</th>\n",
       "      <td>Random Forest + unweighted Word2Vec</td>\n",
       "      <td>0.749391</td>\n",
       "      <td>0.744189</td>\n",
       "      <td>0.478138</td>\n",
       "      <td>0.465761</td>\n",
       "      <td>69.573316</td>\n",
       "    </tr>\n",
       "    <tr>\n",
       "      <th>9</th>\n",
       "      <td>Random Forest + weighted Word2Vec</td>\n",
       "      <td>0.747820</td>\n",
       "      <td>0.742715</td>\n",
       "      <td>0.475128</td>\n",
       "      <td>0.465892</td>\n",
       "      <td>104.046352</td>\n",
       "    </tr>\n",
       "    <tr>\n",
       "      <th>10</th>\n",
       "      <td>Random Forest + unweighted GloVe</td>\n",
       "      <td>0.747078</td>\n",
       "      <td>0.736501</td>\n",
       "      <td>0.466408</td>\n",
       "      <td>0.469103</td>\n",
       "      <td>106.182689</td>\n",
       "    </tr>\n",
       "    <tr>\n",
       "      <th>11</th>\n",
       "      <td>Random Forest + weighted GloVe</td>\n",
       "      <td>0.745395</td>\n",
       "      <td>0.736307</td>\n",
       "      <td>0.464917</td>\n",
       "      <td>0.470662</td>\n",
       "      <td>85.814982</td>\n",
       "    </tr>\n",
       "    <tr>\n",
       "      <th>12</th>\n",
       "      <td>XgBoost + unweighted Word2Vec</td>\n",
       "      <td>0.747263</td>\n",
       "      <td>0.737225</td>\n",
       "      <td>0.467465</td>\n",
       "      <td>0.461444</td>\n",
       "      <td>212.792482</td>\n",
       "    </tr>\n",
       "    <tr>\n",
       "      <th>13</th>\n",
       "      <td>XgBoost + weighted Word2Vec</td>\n",
       "      <td>0.741994</td>\n",
       "      <td>0.735568</td>\n",
       "      <td>0.461650</td>\n",
       "      <td>0.462505</td>\n",
       "      <td>190.932288</td>\n",
       "    </tr>\n",
       "    <tr>\n",
       "      <th>14</th>\n",
       "      <td>XgBoost + unweighted GloVe</td>\n",
       "      <td>0.746447</td>\n",
       "      <td>0.734383</td>\n",
       "      <td>0.463273</td>\n",
       "      <td>0.465469</td>\n",
       "      <td>189.932080</td>\n",
       "    </tr>\n",
       "    <tr>\n",
       "      <th>15</th>\n",
       "      <td>XgBoost + weighted GloVe</td>\n",
       "      <td>0.745903</td>\n",
       "      <td>0.734660</td>\n",
       "      <td>0.463189</td>\n",
       "      <td>0.466421</td>\n",
       "      <td>265.381271</td>\n",
       "    </tr>\n",
       "  </tbody>\n",
       "</table>\n",
       "</div>"
      ],
      "text/plain": [
       "                                   Model Name  Accuracy  Balanced Accuracy  \\\n",
       "0   Logistic Regression + unweighted Word2Vec  0.667553           0.633101   \n",
       "1     Logistic Regression + weighted Word2Vec  0.667850           0.633628   \n",
       "2      Logistic Regression + unweighted GloVe  0.673441           0.639949   \n",
       "3        Logistic Regression + weighted GloVe  0.674703           0.641401   \n",
       "4        Neural Network + unweighted Word2Vec  0.730156           0.715469   \n",
       "5          Neural Network + weighted Word2Vec  0.730552           0.711005   \n",
       "6           Neural Network + unweighted GloVe  0.726457           0.706933   \n",
       "7             Neural Network + weighted GloVe  0.727274           0.705817   \n",
       "8         Random Forest + unweighted Word2Vec  0.749391           0.744189   \n",
       "9           Random Forest + weighted Word2Vec  0.747820           0.742715   \n",
       "10           Random Forest + unweighted GloVe  0.747078           0.736501   \n",
       "11             Random Forest + weighted GloVe  0.745395           0.736307   \n",
       "12              XgBoost + unweighted Word2Vec  0.747263           0.737225   \n",
       "13                XgBoost + weighted Word2Vec  0.741994           0.735568   \n",
       "14                 XgBoost + unweighted GloVe  0.746447           0.734383   \n",
       "15                   XgBoost + weighted GloVe  0.745903           0.734660   \n",
       "\n",
       "         MCC   Logloss        Time  \n",
       "0   0.272501  0.542918    2.670409  \n",
       "1   0.273428  0.541779    2.529573  \n",
       "2   0.286121  0.541438    2.510875  \n",
       "3   0.289014  0.543162    2.417211  \n",
       "4   0.426890  0.483574  121.446522  \n",
       "5   0.421815  0.482023  111.962412  \n",
       "6   0.413411  0.487620  115.142341  \n",
       "7   0.412845  0.487657  149.947673  \n",
       "8   0.478138  0.465761   69.573316  \n",
       "9   0.475128  0.465892  104.046352  \n",
       "10  0.466408  0.469103  106.182689  \n",
       "11  0.464917  0.470662   85.814982  \n",
       "12  0.467465  0.461444  212.792482  \n",
       "13  0.461650  0.462505  190.932288  \n",
       "14  0.463273  0.465469  189.932080  \n",
       "15  0.463189  0.466421  265.381271  "
      ]
     },
     "execution_count": 63,
     "metadata": {},
     "output_type": "execute_result"
    }
   ],
   "source": [
    "test_results"
   ]
  },
  {
   "cell_type": "code",
   "execution_count": 64,
   "id": "3a249ed9-2d79-4f27-92ac-007b39aad9f8",
   "metadata": {},
   "outputs": [
    {
     "data": {
      "text/html": [
       "<div>\n",
       "<style scoped>\n",
       "    .dataframe tbody tr th:only-of-type {\n",
       "        vertical-align: middle;\n",
       "    }\n",
       "\n",
       "    .dataframe tbody tr th {\n",
       "        vertical-align: top;\n",
       "    }\n",
       "\n",
       "    .dataframe thead th {\n",
       "        text-align: right;\n",
       "    }\n",
       "</style>\n",
       "<table border=\"1\" class=\"dataframe\">\n",
       "  <thead>\n",
       "    <tr style=\"text-align: right;\">\n",
       "      <th></th>\n",
       "      <th>Model Name</th>\n",
       "      <th>Accuracy</th>\n",
       "    </tr>\n",
       "  </thead>\n",
       "  <tbody>\n",
       "    <tr>\n",
       "      <th>0</th>\n",
       "      <td>Random Forest + unweighted Word2Vec</td>\n",
       "      <td>0.749391</td>\n",
       "    </tr>\n",
       "    <tr>\n",
       "      <th>1</th>\n",
       "      <td>Random Forest + weighted Word2Vec</td>\n",
       "      <td>0.747820</td>\n",
       "    </tr>\n",
       "    <tr>\n",
       "      <th>2</th>\n",
       "      <td>XgBoost + unweighted Word2Vec</td>\n",
       "      <td>0.747263</td>\n",
       "    </tr>\n",
       "    <tr>\n",
       "      <th>3</th>\n",
       "      <td>Random Forest + unweighted GloVe</td>\n",
       "      <td>0.747078</td>\n",
       "    </tr>\n",
       "    <tr>\n",
       "      <th>4</th>\n",
       "      <td>XgBoost + unweighted GloVe</td>\n",
       "      <td>0.746447</td>\n",
       "    </tr>\n",
       "    <tr>\n",
       "      <th>5</th>\n",
       "      <td>XgBoost + weighted GloVe</td>\n",
       "      <td>0.745903</td>\n",
       "    </tr>\n",
       "    <tr>\n",
       "      <th>6</th>\n",
       "      <td>Random Forest + weighted GloVe</td>\n",
       "      <td>0.745395</td>\n",
       "    </tr>\n",
       "    <tr>\n",
       "      <th>7</th>\n",
       "      <td>XgBoost + weighted Word2Vec</td>\n",
       "      <td>0.741994</td>\n",
       "    </tr>\n",
       "    <tr>\n",
       "      <th>8</th>\n",
       "      <td>Neural Network + weighted Word2Vec</td>\n",
       "      <td>0.730552</td>\n",
       "    </tr>\n",
       "    <tr>\n",
       "      <th>9</th>\n",
       "      <td>Neural Network + unweighted Word2Vec</td>\n",
       "      <td>0.730156</td>\n",
       "    </tr>\n",
       "    <tr>\n",
       "      <th>10</th>\n",
       "      <td>Neural Network + weighted GloVe</td>\n",
       "      <td>0.727274</td>\n",
       "    </tr>\n",
       "    <tr>\n",
       "      <th>11</th>\n",
       "      <td>Neural Network + unweighted GloVe</td>\n",
       "      <td>0.726457</td>\n",
       "    </tr>\n",
       "    <tr>\n",
       "      <th>12</th>\n",
       "      <td>Logistic Regression + weighted GloVe</td>\n",
       "      <td>0.674703</td>\n",
       "    </tr>\n",
       "    <tr>\n",
       "      <th>13</th>\n",
       "      <td>Logistic Regression + unweighted GloVe</td>\n",
       "      <td>0.673441</td>\n",
       "    </tr>\n",
       "    <tr>\n",
       "      <th>14</th>\n",
       "      <td>Logistic Regression + weighted Word2Vec</td>\n",
       "      <td>0.667850</td>\n",
       "    </tr>\n",
       "    <tr>\n",
       "      <th>15</th>\n",
       "      <td>Logistic Regression + unweighted Word2Vec</td>\n",
       "      <td>0.667553</td>\n",
       "    </tr>\n",
       "  </tbody>\n",
       "</table>\n",
       "</div>"
      ],
      "text/plain": [
       "                                   Model Name  Accuracy\n",
       "0         Random Forest + unweighted Word2Vec  0.749391\n",
       "1           Random Forest + weighted Word2Vec  0.747820\n",
       "2               XgBoost + unweighted Word2Vec  0.747263\n",
       "3            Random Forest + unweighted GloVe  0.747078\n",
       "4                  XgBoost + unweighted GloVe  0.746447\n",
       "5                    XgBoost + weighted GloVe  0.745903\n",
       "6              Random Forest + weighted GloVe  0.745395\n",
       "7                 XgBoost + weighted Word2Vec  0.741994\n",
       "8          Neural Network + weighted Word2Vec  0.730552\n",
       "9        Neural Network + unweighted Word2Vec  0.730156\n",
       "10            Neural Network + weighted GloVe  0.727274\n",
       "11          Neural Network + unweighted GloVe  0.726457\n",
       "12       Logistic Regression + weighted GloVe  0.674703\n",
       "13     Logistic Regression + unweighted GloVe  0.673441\n",
       "14    Logistic Regression + weighted Word2Vec  0.667850\n",
       "15  Logistic Regression + unweighted Word2Vec  0.667553"
      ]
     },
     "execution_count": 64,
     "metadata": {},
     "output_type": "execute_result"
    }
   ],
   "source": [
    "test_results[['Model Name','Accuracy']].sort_values('Accuracy',ascending=False).reset_index(drop=True)"
   ]
  },
  {
   "cell_type": "code",
   "execution_count": 65,
   "id": "12a78057-c939-41d3-8391-4f794305559d",
   "metadata": {},
   "outputs": [
    {
     "data": {
      "text/html": [
       "<div>\n",
       "<style scoped>\n",
       "    .dataframe tbody tr th:only-of-type {\n",
       "        vertical-align: middle;\n",
       "    }\n",
       "\n",
       "    .dataframe tbody tr th {\n",
       "        vertical-align: top;\n",
       "    }\n",
       "\n",
       "    .dataframe thead th {\n",
       "        text-align: right;\n",
       "    }\n",
       "</style>\n",
       "<table border=\"1\" class=\"dataframe\">\n",
       "  <thead>\n",
       "    <tr style=\"text-align: right;\">\n",
       "      <th></th>\n",
       "      <th>Model Name</th>\n",
       "      <th>Balanced Accuracy</th>\n",
       "    </tr>\n",
       "  </thead>\n",
       "  <tbody>\n",
       "    <tr>\n",
       "      <th>0</th>\n",
       "      <td>Random Forest + unweighted Word2Vec</td>\n",
       "      <td>0.744189</td>\n",
       "    </tr>\n",
       "    <tr>\n",
       "      <th>1</th>\n",
       "      <td>Random Forest + weighted Word2Vec</td>\n",
       "      <td>0.742715</td>\n",
       "    </tr>\n",
       "    <tr>\n",
       "      <th>2</th>\n",
       "      <td>XgBoost + unweighted Word2Vec</td>\n",
       "      <td>0.737225</td>\n",
       "    </tr>\n",
       "    <tr>\n",
       "      <th>3</th>\n",
       "      <td>Random Forest + unweighted GloVe</td>\n",
       "      <td>0.736501</td>\n",
       "    </tr>\n",
       "    <tr>\n",
       "      <th>4</th>\n",
       "      <td>Random Forest + weighted GloVe</td>\n",
       "      <td>0.736307</td>\n",
       "    </tr>\n",
       "    <tr>\n",
       "      <th>5</th>\n",
       "      <td>XgBoost + weighted Word2Vec</td>\n",
       "      <td>0.735568</td>\n",
       "    </tr>\n",
       "    <tr>\n",
       "      <th>6</th>\n",
       "      <td>XgBoost + weighted GloVe</td>\n",
       "      <td>0.734660</td>\n",
       "    </tr>\n",
       "    <tr>\n",
       "      <th>7</th>\n",
       "      <td>XgBoost + unweighted GloVe</td>\n",
       "      <td>0.734383</td>\n",
       "    </tr>\n",
       "    <tr>\n",
       "      <th>8</th>\n",
       "      <td>Neural Network + unweighted Word2Vec</td>\n",
       "      <td>0.715469</td>\n",
       "    </tr>\n",
       "    <tr>\n",
       "      <th>9</th>\n",
       "      <td>Neural Network + weighted Word2Vec</td>\n",
       "      <td>0.711005</td>\n",
       "    </tr>\n",
       "    <tr>\n",
       "      <th>10</th>\n",
       "      <td>Neural Network + unweighted GloVe</td>\n",
       "      <td>0.706933</td>\n",
       "    </tr>\n",
       "    <tr>\n",
       "      <th>11</th>\n",
       "      <td>Neural Network + weighted GloVe</td>\n",
       "      <td>0.705817</td>\n",
       "    </tr>\n",
       "    <tr>\n",
       "      <th>12</th>\n",
       "      <td>Logistic Regression + weighted GloVe</td>\n",
       "      <td>0.641401</td>\n",
       "    </tr>\n",
       "    <tr>\n",
       "      <th>13</th>\n",
       "      <td>Logistic Regression + unweighted GloVe</td>\n",
       "      <td>0.639949</td>\n",
       "    </tr>\n",
       "    <tr>\n",
       "      <th>14</th>\n",
       "      <td>Logistic Regression + weighted Word2Vec</td>\n",
       "      <td>0.633628</td>\n",
       "    </tr>\n",
       "    <tr>\n",
       "      <th>15</th>\n",
       "      <td>Logistic Regression + unweighted Word2Vec</td>\n",
       "      <td>0.633101</td>\n",
       "    </tr>\n",
       "  </tbody>\n",
       "</table>\n",
       "</div>"
      ],
      "text/plain": [
       "                                   Model Name  Balanced Accuracy\n",
       "0         Random Forest + unweighted Word2Vec           0.744189\n",
       "1           Random Forest + weighted Word2Vec           0.742715\n",
       "2               XgBoost + unweighted Word2Vec           0.737225\n",
       "3            Random Forest + unweighted GloVe           0.736501\n",
       "4              Random Forest + weighted GloVe           0.736307\n",
       "5                 XgBoost + weighted Word2Vec           0.735568\n",
       "6                    XgBoost + weighted GloVe           0.734660\n",
       "7                  XgBoost + unweighted GloVe           0.734383\n",
       "8        Neural Network + unweighted Word2Vec           0.715469\n",
       "9          Neural Network + weighted Word2Vec           0.711005\n",
       "10          Neural Network + unweighted GloVe           0.706933\n",
       "11            Neural Network + weighted GloVe           0.705817\n",
       "12       Logistic Regression + weighted GloVe           0.641401\n",
       "13     Logistic Regression + unweighted GloVe           0.639949\n",
       "14    Logistic Regression + weighted Word2Vec           0.633628\n",
       "15  Logistic Regression + unweighted Word2Vec           0.633101"
      ]
     },
     "execution_count": 65,
     "metadata": {},
     "output_type": "execute_result"
    }
   ],
   "source": [
    "test_results[['Model Name','Balanced Accuracy']].sort_values('Balanced Accuracy',ascending=False).reset_index(drop=True)"
   ]
  },
  {
   "cell_type": "code",
   "execution_count": 66,
   "id": "711da8ce-193f-4500-9c33-ab22db7291d7",
   "metadata": {},
   "outputs": [
    {
     "data": {
      "text/html": [
       "<div>\n",
       "<style scoped>\n",
       "    .dataframe tbody tr th:only-of-type {\n",
       "        vertical-align: middle;\n",
       "    }\n",
       "\n",
       "    .dataframe tbody tr th {\n",
       "        vertical-align: top;\n",
       "    }\n",
       "\n",
       "    .dataframe thead th {\n",
       "        text-align: right;\n",
       "    }\n",
       "</style>\n",
       "<table border=\"1\" class=\"dataframe\">\n",
       "  <thead>\n",
       "    <tr style=\"text-align: right;\">\n",
       "      <th></th>\n",
       "      <th>Model Name</th>\n",
       "      <th>MCC</th>\n",
       "    </tr>\n",
       "  </thead>\n",
       "  <tbody>\n",
       "    <tr>\n",
       "      <th>0</th>\n",
       "      <td>Random Forest + unweighted Word2Vec</td>\n",
       "      <td>0.478138</td>\n",
       "    </tr>\n",
       "    <tr>\n",
       "      <th>1</th>\n",
       "      <td>Random Forest + weighted Word2Vec</td>\n",
       "      <td>0.475128</td>\n",
       "    </tr>\n",
       "    <tr>\n",
       "      <th>2</th>\n",
       "      <td>XgBoost + unweighted Word2Vec</td>\n",
       "      <td>0.467465</td>\n",
       "    </tr>\n",
       "    <tr>\n",
       "      <th>3</th>\n",
       "      <td>Random Forest + unweighted GloVe</td>\n",
       "      <td>0.466408</td>\n",
       "    </tr>\n",
       "    <tr>\n",
       "      <th>4</th>\n",
       "      <td>Random Forest + weighted GloVe</td>\n",
       "      <td>0.464917</td>\n",
       "    </tr>\n",
       "    <tr>\n",
       "      <th>5</th>\n",
       "      <td>XgBoost + unweighted GloVe</td>\n",
       "      <td>0.463273</td>\n",
       "    </tr>\n",
       "    <tr>\n",
       "      <th>6</th>\n",
       "      <td>XgBoost + weighted GloVe</td>\n",
       "      <td>0.463189</td>\n",
       "    </tr>\n",
       "    <tr>\n",
       "      <th>7</th>\n",
       "      <td>XgBoost + weighted Word2Vec</td>\n",
       "      <td>0.461650</td>\n",
       "    </tr>\n",
       "    <tr>\n",
       "      <th>8</th>\n",
       "      <td>Neural Network + unweighted Word2Vec</td>\n",
       "      <td>0.426890</td>\n",
       "    </tr>\n",
       "    <tr>\n",
       "      <th>9</th>\n",
       "      <td>Neural Network + weighted Word2Vec</td>\n",
       "      <td>0.421815</td>\n",
       "    </tr>\n",
       "    <tr>\n",
       "      <th>10</th>\n",
       "      <td>Neural Network + unweighted GloVe</td>\n",
       "      <td>0.413411</td>\n",
       "    </tr>\n",
       "    <tr>\n",
       "      <th>11</th>\n",
       "      <td>Neural Network + weighted GloVe</td>\n",
       "      <td>0.412845</td>\n",
       "    </tr>\n",
       "    <tr>\n",
       "      <th>12</th>\n",
       "      <td>Logistic Regression + weighted GloVe</td>\n",
       "      <td>0.289014</td>\n",
       "    </tr>\n",
       "    <tr>\n",
       "      <th>13</th>\n",
       "      <td>Logistic Regression + unweighted GloVe</td>\n",
       "      <td>0.286121</td>\n",
       "    </tr>\n",
       "    <tr>\n",
       "      <th>14</th>\n",
       "      <td>Logistic Regression + weighted Word2Vec</td>\n",
       "      <td>0.273428</td>\n",
       "    </tr>\n",
       "    <tr>\n",
       "      <th>15</th>\n",
       "      <td>Logistic Regression + unweighted Word2Vec</td>\n",
       "      <td>0.272501</td>\n",
       "    </tr>\n",
       "  </tbody>\n",
       "</table>\n",
       "</div>"
      ],
      "text/plain": [
       "                                   Model Name       MCC\n",
       "0         Random Forest + unweighted Word2Vec  0.478138\n",
       "1           Random Forest + weighted Word2Vec  0.475128\n",
       "2               XgBoost + unweighted Word2Vec  0.467465\n",
       "3            Random Forest + unweighted GloVe  0.466408\n",
       "4              Random Forest + weighted GloVe  0.464917\n",
       "5                  XgBoost + unweighted GloVe  0.463273\n",
       "6                    XgBoost + weighted GloVe  0.463189\n",
       "7                 XgBoost + weighted Word2Vec  0.461650\n",
       "8        Neural Network + unweighted Word2Vec  0.426890\n",
       "9          Neural Network + weighted Word2Vec  0.421815\n",
       "10          Neural Network + unweighted GloVe  0.413411\n",
       "11            Neural Network + weighted GloVe  0.412845\n",
       "12       Logistic Regression + weighted GloVe  0.289014\n",
       "13     Logistic Regression + unweighted GloVe  0.286121\n",
       "14    Logistic Regression + weighted Word2Vec  0.273428\n",
       "15  Logistic Regression + unweighted Word2Vec  0.272501"
      ]
     },
     "execution_count": 66,
     "metadata": {},
     "output_type": "execute_result"
    }
   ],
   "source": [
    "test_results[['Model Name','MCC']].sort_values('MCC',ascending=False).reset_index(drop=True)"
   ]
  },
  {
   "cell_type": "code",
   "execution_count": 67,
   "id": "d0877f49-e6d1-4e24-85ec-0f16e6ea42bb",
   "metadata": {},
   "outputs": [
    {
     "data": {
      "text/html": [
       "<div>\n",
       "<style scoped>\n",
       "    .dataframe tbody tr th:only-of-type {\n",
       "        vertical-align: middle;\n",
       "    }\n",
       "\n",
       "    .dataframe tbody tr th {\n",
       "        vertical-align: top;\n",
       "    }\n",
       "\n",
       "    .dataframe thead th {\n",
       "        text-align: right;\n",
       "    }\n",
       "</style>\n",
       "<table border=\"1\" class=\"dataframe\">\n",
       "  <thead>\n",
       "    <tr style=\"text-align: right;\">\n",
       "      <th></th>\n",
       "      <th>Model Name</th>\n",
       "      <th>Logloss</th>\n",
       "    </tr>\n",
       "  </thead>\n",
       "  <tbody>\n",
       "    <tr>\n",
       "      <th>0</th>\n",
       "      <td>XgBoost + unweighted Word2Vec</td>\n",
       "      <td>0.461444</td>\n",
       "    </tr>\n",
       "    <tr>\n",
       "      <th>1</th>\n",
       "      <td>XgBoost + weighted Word2Vec</td>\n",
       "      <td>0.462505</td>\n",
       "    </tr>\n",
       "    <tr>\n",
       "      <th>2</th>\n",
       "      <td>XgBoost + unweighted GloVe</td>\n",
       "      <td>0.465469</td>\n",
       "    </tr>\n",
       "    <tr>\n",
       "      <th>3</th>\n",
       "      <td>Random Forest + unweighted Word2Vec</td>\n",
       "      <td>0.465761</td>\n",
       "    </tr>\n",
       "    <tr>\n",
       "      <th>4</th>\n",
       "      <td>Random Forest + weighted Word2Vec</td>\n",
       "      <td>0.465892</td>\n",
       "    </tr>\n",
       "    <tr>\n",
       "      <th>5</th>\n",
       "      <td>XgBoost + weighted GloVe</td>\n",
       "      <td>0.466421</td>\n",
       "    </tr>\n",
       "    <tr>\n",
       "      <th>6</th>\n",
       "      <td>Random Forest + unweighted GloVe</td>\n",
       "      <td>0.469103</td>\n",
       "    </tr>\n",
       "    <tr>\n",
       "      <th>7</th>\n",
       "      <td>Random Forest + weighted GloVe</td>\n",
       "      <td>0.470662</td>\n",
       "    </tr>\n",
       "    <tr>\n",
       "      <th>8</th>\n",
       "      <td>Neural Network + weighted Word2Vec</td>\n",
       "      <td>0.482023</td>\n",
       "    </tr>\n",
       "    <tr>\n",
       "      <th>9</th>\n",
       "      <td>Neural Network + unweighted Word2Vec</td>\n",
       "      <td>0.483574</td>\n",
       "    </tr>\n",
       "    <tr>\n",
       "      <th>10</th>\n",
       "      <td>Neural Network + unweighted GloVe</td>\n",
       "      <td>0.487620</td>\n",
       "    </tr>\n",
       "    <tr>\n",
       "      <th>11</th>\n",
       "      <td>Neural Network + weighted GloVe</td>\n",
       "      <td>0.487657</td>\n",
       "    </tr>\n",
       "    <tr>\n",
       "      <th>12</th>\n",
       "      <td>Logistic Regression + unweighted GloVe</td>\n",
       "      <td>0.541438</td>\n",
       "    </tr>\n",
       "    <tr>\n",
       "      <th>13</th>\n",
       "      <td>Logistic Regression + weighted Word2Vec</td>\n",
       "      <td>0.541779</td>\n",
       "    </tr>\n",
       "    <tr>\n",
       "      <th>14</th>\n",
       "      <td>Logistic Regression + unweighted Word2Vec</td>\n",
       "      <td>0.542918</td>\n",
       "    </tr>\n",
       "    <tr>\n",
       "      <th>15</th>\n",
       "      <td>Logistic Regression + weighted GloVe</td>\n",
       "      <td>0.543162</td>\n",
       "    </tr>\n",
       "  </tbody>\n",
       "</table>\n",
       "</div>"
      ],
      "text/plain": [
       "                                   Model Name   Logloss\n",
       "0               XgBoost + unweighted Word2Vec  0.461444\n",
       "1                 XgBoost + weighted Word2Vec  0.462505\n",
       "2                  XgBoost + unweighted GloVe  0.465469\n",
       "3         Random Forest + unweighted Word2Vec  0.465761\n",
       "4           Random Forest + weighted Word2Vec  0.465892\n",
       "5                    XgBoost + weighted GloVe  0.466421\n",
       "6            Random Forest + unweighted GloVe  0.469103\n",
       "7              Random Forest + weighted GloVe  0.470662\n",
       "8          Neural Network + weighted Word2Vec  0.482023\n",
       "9        Neural Network + unweighted Word2Vec  0.483574\n",
       "10          Neural Network + unweighted GloVe  0.487620\n",
       "11            Neural Network + weighted GloVe  0.487657\n",
       "12     Logistic Regression + unweighted GloVe  0.541438\n",
       "13    Logistic Regression + weighted Word2Vec  0.541779\n",
       "14  Logistic Regression + unweighted Word2Vec  0.542918\n",
       "15       Logistic Regression + weighted GloVe  0.543162"
      ]
     },
     "execution_count": 67,
     "metadata": {},
     "output_type": "execute_result"
    }
   ],
   "source": [
    "test_results[['Model Name','Logloss']].sort_values('Logloss',ascending=True).reset_index(drop=True)"
   ]
  },
  {
   "cell_type": "code",
   "execution_count": 68,
   "id": "d0f92834-cd79-4575-9210-c0d40bd6b3d6",
   "metadata": {},
   "outputs": [
    {
     "data": {
      "text/html": [
       "<div>\n",
       "<style scoped>\n",
       "    .dataframe tbody tr th:only-of-type {\n",
       "        vertical-align: middle;\n",
       "    }\n",
       "\n",
       "    .dataframe tbody tr th {\n",
       "        vertical-align: top;\n",
       "    }\n",
       "\n",
       "    .dataframe thead th {\n",
       "        text-align: right;\n",
       "    }\n",
       "</style>\n",
       "<table border=\"1\" class=\"dataframe\">\n",
       "  <thead>\n",
       "    <tr style=\"text-align: right;\">\n",
       "      <th></th>\n",
       "      <th>Model Name</th>\n",
       "      <th>Time</th>\n",
       "    </tr>\n",
       "  </thead>\n",
       "  <tbody>\n",
       "    <tr>\n",
       "      <th>0</th>\n",
       "      <td>Logistic Regression + weighted GloVe</td>\n",
       "      <td>2.417211</td>\n",
       "    </tr>\n",
       "    <tr>\n",
       "      <th>1</th>\n",
       "      <td>Logistic Regression + unweighted GloVe</td>\n",
       "      <td>2.510875</td>\n",
       "    </tr>\n",
       "    <tr>\n",
       "      <th>2</th>\n",
       "      <td>Logistic Regression + weighted Word2Vec</td>\n",
       "      <td>2.529573</td>\n",
       "    </tr>\n",
       "    <tr>\n",
       "      <th>3</th>\n",
       "      <td>Logistic Regression + unweighted Word2Vec</td>\n",
       "      <td>2.670409</td>\n",
       "    </tr>\n",
       "    <tr>\n",
       "      <th>4</th>\n",
       "      <td>Random Forest + unweighted Word2Vec</td>\n",
       "      <td>69.573316</td>\n",
       "    </tr>\n",
       "    <tr>\n",
       "      <th>5</th>\n",
       "      <td>Random Forest + weighted GloVe</td>\n",
       "      <td>85.814982</td>\n",
       "    </tr>\n",
       "    <tr>\n",
       "      <th>6</th>\n",
       "      <td>Random Forest + weighted Word2Vec</td>\n",
       "      <td>104.046352</td>\n",
       "    </tr>\n",
       "    <tr>\n",
       "      <th>7</th>\n",
       "      <td>Random Forest + unweighted GloVe</td>\n",
       "      <td>106.182689</td>\n",
       "    </tr>\n",
       "    <tr>\n",
       "      <th>8</th>\n",
       "      <td>Neural Network + weighted Word2Vec</td>\n",
       "      <td>111.962412</td>\n",
       "    </tr>\n",
       "    <tr>\n",
       "      <th>9</th>\n",
       "      <td>Neural Network + unweighted GloVe</td>\n",
       "      <td>115.142341</td>\n",
       "    </tr>\n",
       "    <tr>\n",
       "      <th>10</th>\n",
       "      <td>Neural Network + unweighted Word2Vec</td>\n",
       "      <td>121.446522</td>\n",
       "    </tr>\n",
       "    <tr>\n",
       "      <th>11</th>\n",
       "      <td>Neural Network + weighted GloVe</td>\n",
       "      <td>149.947673</td>\n",
       "    </tr>\n",
       "    <tr>\n",
       "      <th>12</th>\n",
       "      <td>XgBoost + unweighted GloVe</td>\n",
       "      <td>189.932080</td>\n",
       "    </tr>\n",
       "    <tr>\n",
       "      <th>13</th>\n",
       "      <td>XgBoost + weighted Word2Vec</td>\n",
       "      <td>190.932288</td>\n",
       "    </tr>\n",
       "    <tr>\n",
       "      <th>14</th>\n",
       "      <td>XgBoost + unweighted Word2Vec</td>\n",
       "      <td>212.792482</td>\n",
       "    </tr>\n",
       "    <tr>\n",
       "      <th>15</th>\n",
       "      <td>XgBoost + weighted GloVe</td>\n",
       "      <td>265.381271</td>\n",
       "    </tr>\n",
       "  </tbody>\n",
       "</table>\n",
       "</div>"
      ],
      "text/plain": [
       "                                   Model Name        Time\n",
       "0        Logistic Regression + weighted GloVe    2.417211\n",
       "1      Logistic Regression + unweighted GloVe    2.510875\n",
       "2     Logistic Regression + weighted Word2Vec    2.529573\n",
       "3   Logistic Regression + unweighted Word2Vec    2.670409\n",
       "4         Random Forest + unweighted Word2Vec   69.573316\n",
       "5              Random Forest + weighted GloVe   85.814982\n",
       "6           Random Forest + weighted Word2Vec  104.046352\n",
       "7            Random Forest + unweighted GloVe  106.182689\n",
       "8          Neural Network + weighted Word2Vec  111.962412\n",
       "9           Neural Network + unweighted GloVe  115.142341\n",
       "10       Neural Network + unweighted Word2Vec  121.446522\n",
       "11            Neural Network + weighted GloVe  149.947673\n",
       "12                 XgBoost + unweighted GloVe  189.932080\n",
       "13                XgBoost + weighted Word2Vec  190.932288\n",
       "14              XgBoost + unweighted Word2Vec  212.792482\n",
       "15                   XgBoost + weighted GloVe  265.381271"
      ]
     },
     "execution_count": 68,
     "metadata": {},
     "output_type": "execute_result"
    }
   ],
   "source": [
    "test_results[['Model Name','Time']].sort_values('Time',ascending=True).reset_index(drop=True)"
   ]
  },
  {
   "cell_type": "markdown",
   "id": "3a3eea7b-206a-4a1c-a652-2690aaa171df",
   "metadata": {},
   "source": [
    "Model `Random Forest + unweighted Word2Vec` had the best results in terms of accuracy, balanced accuracy, and MCC, while model `XgBoost + unweighted Word2Vec` had the lowest logloss, and model `Logistic Regression + weighted GloVe` had the fastest training time. Model `Random Forest + unweighted Word2Vec` has the best performance overall across all metrics. Moreover, it seems that the unweighted model performed better than the weighted model for this dataset. One reason that might explain this result is that the train dataset does not contain special words (hence higher weight for them) that appear in the test dataset, or they only appear in the train dataset and not the test dataset."
   ]
  },
  {
   "cell_type": "markdown",
   "id": "582bc9a1-1b2d-4eb0-84c7-a20ed1790b95",
   "metadata": {},
   "source": [
    "#### Confusion matrix, calibration curves, and AUC-ROC curve for `Random Forest + unweighted Word2Vec`"
   ]
  },
  {
   "cell_type": "markdown",
   "id": "97285176-0f21-4417-93b9-cddb54c71b21",
   "metadata": {},
   "source": [
    "Confusion matrix"
   ]
  },
  {
   "cell_type": "code",
   "execution_count": 69,
   "id": "04903406-2e92-4ab5-b44b-a40560310d56",
   "metadata": {},
   "outputs": [
    {
     "data": {
      "text/plain": [
       "<AxesSubplot:>"
      ]
     },
     "execution_count": 69,
     "metadata": {},
     "output_type": "execute_result"
    },
    {
     "data": {
      "image/png": "[encoded data removed]",
      "text/plain": [
       "<Figure size 700x500 with 2 Axes>"
      ]
     },
     "metadata": {},
     "output_type": "display_data"
    }
   ],
   "source": [
    "cf_test = confusion_matrix(y_test,rf_w2v_preds_test,normalize='true')\n",
    "plt.style.use('default')\n",
    "fig, ax = plt.subplots(figsize=(7,5))\n",
    "sns.heatmap(cf_test, annot=True, cmap=\"coolwarm\",yticklabels= [0,1], xticklabels= [0,1])"
   ]
  },
  {
   "cell_type": "markdown",
   "id": "d4c09a17-de00-4a50-a89e-41f5068870ea",
   "metadata": {},
   "source": [
    "Calibration curves"
   ]
  },
  {
   "cell_type": "code",
   "execution_count": 70,
   "id": "50a8a7dd-bf78-4e9e-82de-19e6abd8e040",
   "metadata": {},
   "outputs": [
    {
     "data": {
      "image/png": "[encoded data removed]",
      "text/plain": [
       "<Figure size 640x480 with 1 Axes>"
      ]
     },
     "metadata": {},
     "output_type": "display_data"
    }
   ],
   "source": [
    "plotting.plot_calibration_curves(rf_un_w2v,X_test_rf_un_w2v,y_test,'is_duplicate',[0,1])"
   ]
  },
  {
   "cell_type": "markdown",
   "id": "93062ddb-a1a5-4c85-bbaa-d45ca4272314",
   "metadata": {},
   "source": [
    "AUC-ROC curve"
   ]
  },
  {
   "cell_type": "code",
   "execution_count": 71,
   "id": "cf4e4d5d-8694-4ddd-b2e3-7fab13eb649e",
   "metadata": {},
   "outputs": [
    {
     "data": {
      "image/png": "[encoded data removed]",
      "text/plain": [
       "<Figure size 640x480 with 1 Axes>"
      ]
     },
     "metadata": {},
     "output_type": "display_data"
    }
   ],
   "source": [
    "plotting.plot_roc_curve(rf_un_w2v,X_test_rf_un_w2v,y_test)"
   ]
  },
  {
   "cell_type": "markdown",
   "id": "6ee193bc-0063-490e-af22-102167c5fa88",
   "metadata": {},
   "source": [
    "## Feature Importance <a id='feature_imp'></a>"
   ]
  },
  {
   "cell_type": "markdown",
   "id": "41987c40-95ea-46ea-aa35-38e18a773d2e",
   "metadata": {},
   "source": [
    "#### Feature importance for `Random Forest + unweighted Word2Vec`"
   ]
  },
  {
   "cell_type": "code",
   "execution_count": 72,
   "id": "54367e18-04fc-4526-9566-73942a00f292",
   "metadata": {},
   "outputs": [
    {
     "data": {
      "image/png": "[encoded data removed]",
      "text/plain": [
       "<Figure size 640x480 with 1 Axes>"
      ]
     },
     "metadata": {},
     "output_type": "display_data"
    }
   ],
   "source": [
    "sorted_idx = rf_un_w2v.feature_importances_.argsort()\n",
    "plt.barh(X_train_rf_un_w2v.columns[sorted_idx], rf_un_w2v.feature_importances_[sorted_idx])\n",
    "plt.xlabel(\"Random Forest Feature Importance\");"
   ]
  },
  {
   "cell_type": "markdown",
   "id": "05c4b8f0-2f5c-403c-97ba-57e75f509da2",
   "metadata": {},
   "source": [
    "Feature `similarity_unweighted_w2v` was the most important feature for the Random Forest algorithm. For this feature, the vectors for each word in a question are added together to form one vector in a Word2Vec embedding without weighting them by TF-IDF. Note that the order of the words for this feature isn't captured. Hence, other features that are generated by fuzzywuzzy library were used to capture such properties, and these features also turned out to be important as can be seen in the plot above."
   ]
  }
 ],
 "metadata": {
  "kernelspec": {
   "display_name": "Python 3 (ipykernel)",
   "language": "python",
   "name": "python3"
  },
  "language_info": {
   "codemirror_mode": {
    "name": "ipython",
    "version": 3
   },
   "file_extension": ".py",
   "mimetype": "text/x-python",
   "name": "python",
   "nbconvert_exporter": "python",
   "pygments_lexer": "ipython3",
   "version": "3.9.7"
  }
 },
 "nbformat": 4,
 "nbformat_minor": 5
}
